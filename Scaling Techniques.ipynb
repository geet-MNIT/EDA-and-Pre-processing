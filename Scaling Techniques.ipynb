{
 "cells": [
  {
   "cell_type": "markdown",
   "id": "5b2600bf",
   "metadata": {},
   "source": [
    "Standardization\n",
    "Standardization involves centering the variable at zero, and standardizing the variance to 1. The procedure involves subtracting the mean of each observation and then dividing by the standard deviation:\n",
    "\n",
    "z = (x - x_mean) / std"
   ]
  },
  {
   "cell_type": "code",
   "execution_count": 75,
   "id": "bec1d3a1",
   "metadata": {},
   "outputs": [],
   "source": [
    "import pandas as pd\n",
    "import matplotlib.pyplot as plt\n",
    "import seaborn as sns\n",
    "from sklearn.model_selection import train_test_split\n",
    "\n",
    "# the scaler - for standardization\n",
    "from sklearn.preprocessing import StandardScaler"
   ]
  },
  {
   "cell_type": "code",
   "execution_count": 76,
   "id": "f346bd6c",
   "metadata": {},
   "outputs": [
    {
     "data": {
      "text/html": [
       "<div>\n",
       "<style scoped>\n",
       "    .dataframe tbody tr th:only-of-type {\n",
       "        vertical-align: middle;\n",
       "    }\n",
       "\n",
       "    .dataframe tbody tr th {\n",
       "        vertical-align: top;\n",
       "    }\n",
       "\n",
       "    .dataframe thead th {\n",
       "        text-align: right;\n",
       "    }\n",
       "</style>\n",
       "<table border=\"1\" class=\"dataframe\">\n",
       "  <thead>\n",
       "    <tr style=\"text-align: right;\">\n",
       "      <th></th>\n",
       "      <th>ProdTaken</th>\n",
       "      <th>Age</th>\n",
       "      <th>TypeofContact</th>\n",
       "      <th>CityTier</th>\n",
       "      <th>DurationOfPitch</th>\n",
       "      <th>Occupation</th>\n",
       "      <th>Gender</th>\n",
       "      <th>NumberOfPersonVisiting</th>\n",
       "      <th>NumberOfFollowups</th>\n",
       "      <th>ProductPitched</th>\n",
       "      <th>PreferredPropertyStar</th>\n",
       "      <th>MaritalStatus</th>\n",
       "      <th>NumberOfTrips</th>\n",
       "      <th>Passport</th>\n",
       "      <th>PitchSatisfactionScore</th>\n",
       "      <th>OwnCar</th>\n",
       "      <th>NumberOfChildrenVisiting</th>\n",
       "      <th>Designation</th>\n",
       "      <th>MonthlyIncome</th>\n",
       "    </tr>\n",
       "  </thead>\n",
       "  <tbody>\n",
       "    <tr>\n",
       "      <th>0</th>\n",
       "      <td>1</td>\n",
       "      <td>41.0</td>\n",
       "      <td>Self Enquiry</td>\n",
       "      <td>3</td>\n",
       "      <td>6.0</td>\n",
       "      <td>Salaried</td>\n",
       "      <td>Female</td>\n",
       "      <td>3</td>\n",
       "      <td>3.0</td>\n",
       "      <td>Deluxe</td>\n",
       "      <td>3.0</td>\n",
       "      <td>Single</td>\n",
       "      <td>1.0</td>\n",
       "      <td>1</td>\n",
       "      <td>2</td>\n",
       "      <td>1</td>\n",
       "      <td>0.0</td>\n",
       "      <td>Manager</td>\n",
       "      <td>20993.0</td>\n",
       "    </tr>\n",
       "    <tr>\n",
       "      <th>1</th>\n",
       "      <td>0</td>\n",
       "      <td>49.0</td>\n",
       "      <td>Company Invited</td>\n",
       "      <td>1</td>\n",
       "      <td>14.0</td>\n",
       "      <td>Salaried</td>\n",
       "      <td>Male</td>\n",
       "      <td>3</td>\n",
       "      <td>4.0</td>\n",
       "      <td>Deluxe</td>\n",
       "      <td>4.0</td>\n",
       "      <td>Divorced</td>\n",
       "      <td>2.0</td>\n",
       "      <td>0</td>\n",
       "      <td>3</td>\n",
       "      <td>1</td>\n",
       "      <td>2.0</td>\n",
       "      <td>Manager</td>\n",
       "      <td>20130.0</td>\n",
       "    </tr>\n",
       "    <tr>\n",
       "      <th>2</th>\n",
       "      <td>1</td>\n",
       "      <td>37.0</td>\n",
       "      <td>Self Enquiry</td>\n",
       "      <td>1</td>\n",
       "      <td>8.0</td>\n",
       "      <td>Free Lancer</td>\n",
       "      <td>Male</td>\n",
       "      <td>3</td>\n",
       "      <td>4.0</td>\n",
       "      <td>Basic</td>\n",
       "      <td>3.0</td>\n",
       "      <td>Single</td>\n",
       "      <td>7.0</td>\n",
       "      <td>1</td>\n",
       "      <td>3</td>\n",
       "      <td>0</td>\n",
       "      <td>0.0</td>\n",
       "      <td>Executive</td>\n",
       "      <td>17090.0</td>\n",
       "    </tr>\n",
       "    <tr>\n",
       "      <th>3</th>\n",
       "      <td>0</td>\n",
       "      <td>33.0</td>\n",
       "      <td>Company Invited</td>\n",
       "      <td>1</td>\n",
       "      <td>9.0</td>\n",
       "      <td>Salaried</td>\n",
       "      <td>Female</td>\n",
       "      <td>2</td>\n",
       "      <td>3.0</td>\n",
       "      <td>Basic</td>\n",
       "      <td>3.0</td>\n",
       "      <td>Divorced</td>\n",
       "      <td>2.0</td>\n",
       "      <td>1</td>\n",
       "      <td>5</td>\n",
       "      <td>1</td>\n",
       "      <td>1.0</td>\n",
       "      <td>Executive</td>\n",
       "      <td>17909.0</td>\n",
       "    </tr>\n",
       "    <tr>\n",
       "      <th>4</th>\n",
       "      <td>0</td>\n",
       "      <td>36.0</td>\n",
       "      <td>Self Enquiry</td>\n",
       "      <td>1</td>\n",
       "      <td>8.0</td>\n",
       "      <td>Small Business</td>\n",
       "      <td>Male</td>\n",
       "      <td>2</td>\n",
       "      <td>3.0</td>\n",
       "      <td>Basic</td>\n",
       "      <td>4.0</td>\n",
       "      <td>Divorced</td>\n",
       "      <td>1.0</td>\n",
       "      <td>0</td>\n",
       "      <td>5</td>\n",
       "      <td>1</td>\n",
       "      <td>0.0</td>\n",
       "      <td>Executive</td>\n",
       "      <td>18468.0</td>\n",
       "    </tr>\n",
       "    <tr>\n",
       "      <th>...</th>\n",
       "      <td>...</td>\n",
       "      <td>...</td>\n",
       "      <td>...</td>\n",
       "      <td>...</td>\n",
       "      <td>...</td>\n",
       "      <td>...</td>\n",
       "      <td>...</td>\n",
       "      <td>...</td>\n",
       "      <td>...</td>\n",
       "      <td>...</td>\n",
       "      <td>...</td>\n",
       "      <td>...</td>\n",
       "      <td>...</td>\n",
       "      <td>...</td>\n",
       "      <td>...</td>\n",
       "      <td>...</td>\n",
       "      <td>...</td>\n",
       "      <td>...</td>\n",
       "      <td>...</td>\n",
       "    </tr>\n",
       "    <tr>\n",
       "      <th>4883</th>\n",
       "      <td>1</td>\n",
       "      <td>49.0</td>\n",
       "      <td>Self Enquiry</td>\n",
       "      <td>3</td>\n",
       "      <td>9.0</td>\n",
       "      <td>Small Business</td>\n",
       "      <td>Male</td>\n",
       "      <td>3</td>\n",
       "      <td>5.0</td>\n",
       "      <td>Deluxe</td>\n",
       "      <td>4.0</td>\n",
       "      <td>Unmarried</td>\n",
       "      <td>2.0</td>\n",
       "      <td>1</td>\n",
       "      <td>1</td>\n",
       "      <td>1</td>\n",
       "      <td>1.0</td>\n",
       "      <td>Manager</td>\n",
       "      <td>26576.0</td>\n",
       "    </tr>\n",
       "    <tr>\n",
       "      <th>4884</th>\n",
       "      <td>1</td>\n",
       "      <td>28.0</td>\n",
       "      <td>Company Invited</td>\n",
       "      <td>1</td>\n",
       "      <td>31.0</td>\n",
       "      <td>Salaried</td>\n",
       "      <td>Male</td>\n",
       "      <td>4</td>\n",
       "      <td>5.0</td>\n",
       "      <td>Basic</td>\n",
       "      <td>3.0</td>\n",
       "      <td>Single</td>\n",
       "      <td>3.0</td>\n",
       "      <td>1</td>\n",
       "      <td>3</td>\n",
       "      <td>1</td>\n",
       "      <td>2.0</td>\n",
       "      <td>Executive</td>\n",
       "      <td>21212.0</td>\n",
       "    </tr>\n",
       "    <tr>\n",
       "      <th>4885</th>\n",
       "      <td>1</td>\n",
       "      <td>52.0</td>\n",
       "      <td>Self Enquiry</td>\n",
       "      <td>3</td>\n",
       "      <td>17.0</td>\n",
       "      <td>Salaried</td>\n",
       "      <td>Female</td>\n",
       "      <td>4</td>\n",
       "      <td>4.0</td>\n",
       "      <td>Standard</td>\n",
       "      <td>4.0</td>\n",
       "      <td>Married</td>\n",
       "      <td>7.0</td>\n",
       "      <td>0</td>\n",
       "      <td>1</td>\n",
       "      <td>1</td>\n",
       "      <td>3.0</td>\n",
       "      <td>Senior Manager</td>\n",
       "      <td>31820.0</td>\n",
       "    </tr>\n",
       "    <tr>\n",
       "      <th>4886</th>\n",
       "      <td>1</td>\n",
       "      <td>19.0</td>\n",
       "      <td>Self Enquiry</td>\n",
       "      <td>3</td>\n",
       "      <td>16.0</td>\n",
       "      <td>Small Business</td>\n",
       "      <td>Male</td>\n",
       "      <td>3</td>\n",
       "      <td>4.0</td>\n",
       "      <td>Basic</td>\n",
       "      <td>3.0</td>\n",
       "      <td>Single</td>\n",
       "      <td>3.0</td>\n",
       "      <td>0</td>\n",
       "      <td>5</td>\n",
       "      <td>0</td>\n",
       "      <td>2.0</td>\n",
       "      <td>Executive</td>\n",
       "      <td>20289.0</td>\n",
       "    </tr>\n",
       "    <tr>\n",
       "      <th>4887</th>\n",
       "      <td>1</td>\n",
       "      <td>36.0</td>\n",
       "      <td>Self Enquiry</td>\n",
       "      <td>1</td>\n",
       "      <td>14.0</td>\n",
       "      <td>Salaried</td>\n",
       "      <td>Male</td>\n",
       "      <td>4</td>\n",
       "      <td>4.0</td>\n",
       "      <td>Basic</td>\n",
       "      <td>4.0</td>\n",
       "      <td>Unmarried</td>\n",
       "      <td>3.0</td>\n",
       "      <td>1</td>\n",
       "      <td>3</td>\n",
       "      <td>1</td>\n",
       "      <td>2.0</td>\n",
       "      <td>Executive</td>\n",
       "      <td>24041.0</td>\n",
       "    </tr>\n",
       "  </tbody>\n",
       "</table>\n",
       "<p>4888 rows × 19 columns</p>\n",
       "</div>"
      ],
      "text/plain": [
       "      ProdTaken   Age    TypeofContact  CityTier  DurationOfPitch  \\\n",
       "0             1  41.0     Self Enquiry         3              6.0   \n",
       "1             0  49.0  Company Invited         1             14.0   \n",
       "2             1  37.0     Self Enquiry         1              8.0   \n",
       "3             0  33.0  Company Invited         1              9.0   \n",
       "4             0  36.0     Self Enquiry         1              8.0   \n",
       "...         ...   ...              ...       ...              ...   \n",
       "4883          1  49.0     Self Enquiry         3              9.0   \n",
       "4884          1  28.0  Company Invited         1             31.0   \n",
       "4885          1  52.0     Self Enquiry         3             17.0   \n",
       "4886          1  19.0     Self Enquiry         3             16.0   \n",
       "4887          1  36.0     Self Enquiry         1             14.0   \n",
       "\n",
       "          Occupation  Gender  NumberOfPersonVisiting  NumberOfFollowups  \\\n",
       "0           Salaried  Female                       3                3.0   \n",
       "1           Salaried    Male                       3                4.0   \n",
       "2        Free Lancer    Male                       3                4.0   \n",
       "3           Salaried  Female                       2                3.0   \n",
       "4     Small Business    Male                       2                3.0   \n",
       "...              ...     ...                     ...                ...   \n",
       "4883  Small Business    Male                       3                5.0   \n",
       "4884        Salaried    Male                       4                5.0   \n",
       "4885        Salaried  Female                       4                4.0   \n",
       "4886  Small Business    Male                       3                4.0   \n",
       "4887        Salaried    Male                       4                4.0   \n",
       "\n",
       "     ProductPitched  PreferredPropertyStar MaritalStatus  NumberOfTrips  \\\n",
       "0            Deluxe                    3.0        Single            1.0   \n",
       "1            Deluxe                    4.0      Divorced            2.0   \n",
       "2             Basic                    3.0        Single            7.0   \n",
       "3             Basic                    3.0      Divorced            2.0   \n",
       "4             Basic                    4.0      Divorced            1.0   \n",
       "...             ...                    ...           ...            ...   \n",
       "4883         Deluxe                    4.0     Unmarried            2.0   \n",
       "4884          Basic                    3.0        Single            3.0   \n",
       "4885       Standard                    4.0       Married            7.0   \n",
       "4886          Basic                    3.0        Single            3.0   \n",
       "4887          Basic                    4.0     Unmarried            3.0   \n",
       "\n",
       "      Passport  PitchSatisfactionScore  OwnCar  NumberOfChildrenVisiting  \\\n",
       "0            1                       2       1                       0.0   \n",
       "1            0                       3       1                       2.0   \n",
       "2            1                       3       0                       0.0   \n",
       "3            1                       5       1                       1.0   \n",
       "4            0                       5       1                       0.0   \n",
       "...        ...                     ...     ...                       ...   \n",
       "4883         1                       1       1                       1.0   \n",
       "4884         1                       3       1                       2.0   \n",
       "4885         0                       1       1                       3.0   \n",
       "4886         0                       5       0                       2.0   \n",
       "4887         1                       3       1                       2.0   \n",
       "\n",
       "         Designation  MonthlyIncome  \n",
       "0            Manager        20993.0  \n",
       "1            Manager        20130.0  \n",
       "2          Executive        17090.0  \n",
       "3          Executive        17909.0  \n",
       "4          Executive        18468.0  \n",
       "...              ...            ...  \n",
       "4883         Manager        26576.0  \n",
       "4884       Executive        21212.0  \n",
       "4885  Senior Manager        31820.0  \n",
       "4886       Executive        20289.0  \n",
       "4887       Executive        24041.0  \n",
       "\n",
       "[4888 rows x 19 columns]"
      ]
     },
     "execution_count": 76,
     "metadata": {},
     "output_type": "execute_result"
    }
   ],
   "source": [
    "##read the file\n",
    "data=pd.read_csv(\"D:/INEURON_DATA/Dataset/data1/cleaned_travel.csv\")\n",
    "data"
   ]
  },
  {
   "cell_type": "code",
   "execution_count": 77,
   "id": "fea08d58",
   "metadata": {
    "scrolled": true
   },
   "outputs": [
    {
     "data": {
      "text/html": [
       "<div>\n",
       "<style scoped>\n",
       "    .dataframe tbody tr th:only-of-type {\n",
       "        vertical-align: middle;\n",
       "    }\n",
       "\n",
       "    .dataframe tbody tr th {\n",
       "        vertical-align: top;\n",
       "    }\n",
       "\n",
       "    .dataframe thead th {\n",
       "        text-align: right;\n",
       "    }\n",
       "</style>\n",
       "<table border=\"1\" class=\"dataframe\">\n",
       "  <thead>\n",
       "    <tr style=\"text-align: right;\">\n",
       "      <th></th>\n",
       "      <th>ProdTaken</th>\n",
       "      <th>Age</th>\n",
       "      <th>CityTier</th>\n",
       "      <th>DurationOfPitch</th>\n",
       "      <th>NumberOfPersonVisiting</th>\n",
       "      <th>NumberOfFollowups</th>\n",
       "      <th>PreferredPropertyStar</th>\n",
       "      <th>NumberOfTrips</th>\n",
       "      <th>Passport</th>\n",
       "      <th>PitchSatisfactionScore</th>\n",
       "      <th>OwnCar</th>\n",
       "      <th>NumberOfChildrenVisiting</th>\n",
       "      <th>MonthlyIncome</th>\n",
       "    </tr>\n",
       "  </thead>\n",
       "  <tbody>\n",
       "    <tr>\n",
       "      <th>count</th>\n",
       "      <td>4888.000000</td>\n",
       "      <td>4888.000000</td>\n",
       "      <td>4888.000000</td>\n",
       "      <td>4888.000000</td>\n",
       "      <td>4888.000000</td>\n",
       "      <td>4888.000000</td>\n",
       "      <td>4888.000000</td>\n",
       "      <td>4888.000000</td>\n",
       "      <td>4888.000000</td>\n",
       "      <td>4888.000000</td>\n",
       "      <td>4888.000000</td>\n",
       "      <td>4888.000000</td>\n",
       "      <td>4888.000000</td>\n",
       "    </tr>\n",
       "    <tr>\n",
       "      <th>mean</th>\n",
       "      <td>0.188216</td>\n",
       "      <td>37.547259</td>\n",
       "      <td>1.654255</td>\n",
       "      <td>15.362930</td>\n",
       "      <td>2.905074</td>\n",
       "      <td>3.711129</td>\n",
       "      <td>3.577946</td>\n",
       "      <td>3.143822</td>\n",
       "      <td>0.290917</td>\n",
       "      <td>3.078151</td>\n",
       "      <td>0.620295</td>\n",
       "      <td>1.184738</td>\n",
       "      <td>23559.179419</td>\n",
       "    </tr>\n",
       "    <tr>\n",
       "      <th>std</th>\n",
       "      <td>0.390925</td>\n",
       "      <td>9.104795</td>\n",
       "      <td>0.916583</td>\n",
       "      <td>8.316166</td>\n",
       "      <td>0.724891</td>\n",
       "      <td>0.998271</td>\n",
       "      <td>0.797005</td>\n",
       "      <td>1.900637</td>\n",
       "      <td>0.454232</td>\n",
       "      <td>1.365792</td>\n",
       "      <td>0.485363</td>\n",
       "      <td>0.852323</td>\n",
       "      <td>5257.862921</td>\n",
       "    </tr>\n",
       "    <tr>\n",
       "      <th>min</th>\n",
       "      <td>0.000000</td>\n",
       "      <td>18.000000</td>\n",
       "      <td>1.000000</td>\n",
       "      <td>5.000000</td>\n",
       "      <td>1.000000</td>\n",
       "      <td>1.000000</td>\n",
       "      <td>3.000000</td>\n",
       "      <td>0.000000</td>\n",
       "      <td>0.000000</td>\n",
       "      <td>1.000000</td>\n",
       "      <td>0.000000</td>\n",
       "      <td>0.000000</td>\n",
       "      <td>1000.000000</td>\n",
       "    </tr>\n",
       "    <tr>\n",
       "      <th>25%</th>\n",
       "      <td>0.000000</td>\n",
       "      <td>31.000000</td>\n",
       "      <td>1.000000</td>\n",
       "      <td>9.000000</td>\n",
       "      <td>2.000000</td>\n",
       "      <td>3.000000</td>\n",
       "      <td>3.000000</td>\n",
       "      <td>2.000000</td>\n",
       "      <td>0.000000</td>\n",
       "      <td>2.000000</td>\n",
       "      <td>0.000000</td>\n",
       "      <td>1.000000</td>\n",
       "      <td>20485.000000</td>\n",
       "    </tr>\n",
       "    <tr>\n",
       "      <th>50%</th>\n",
       "      <td>0.000000</td>\n",
       "      <td>36.000000</td>\n",
       "      <td>1.000000</td>\n",
       "      <td>13.000000</td>\n",
       "      <td>3.000000</td>\n",
       "      <td>4.000000</td>\n",
       "      <td>3.000000</td>\n",
       "      <td>3.000000</td>\n",
       "      <td>0.000000</td>\n",
       "      <td>3.000000</td>\n",
       "      <td>1.000000</td>\n",
       "      <td>1.000000</td>\n",
       "      <td>22347.000000</td>\n",
       "    </tr>\n",
       "    <tr>\n",
       "      <th>75%</th>\n",
       "      <td>0.000000</td>\n",
       "      <td>43.000000</td>\n",
       "      <td>3.000000</td>\n",
       "      <td>19.000000</td>\n",
       "      <td>3.000000</td>\n",
       "      <td>4.000000</td>\n",
       "      <td>4.000000</td>\n",
       "      <td>4.000000</td>\n",
       "      <td>1.000000</td>\n",
       "      <td>4.000000</td>\n",
       "      <td>1.000000</td>\n",
       "      <td>2.000000</td>\n",
       "      <td>25424.750000</td>\n",
       "    </tr>\n",
       "    <tr>\n",
       "      <th>max</th>\n",
       "      <td>1.000000</td>\n",
       "      <td>61.000000</td>\n",
       "      <td>3.000000</td>\n",
       "      <td>127.000000</td>\n",
       "      <td>5.000000</td>\n",
       "      <td>6.000000</td>\n",
       "      <td>5.000000</td>\n",
       "      <td>22.000000</td>\n",
       "      <td>1.000000</td>\n",
       "      <td>5.000000</td>\n",
       "      <td>1.000000</td>\n",
       "      <td>3.000000</td>\n",
       "      <td>98678.000000</td>\n",
       "    </tr>\n",
       "  </tbody>\n",
       "</table>\n",
       "</div>"
      ],
      "text/plain": [
       "         ProdTaken          Age     CityTier  DurationOfPitch  \\\n",
       "count  4888.000000  4888.000000  4888.000000      4888.000000   \n",
       "mean      0.188216    37.547259     1.654255        15.362930   \n",
       "std       0.390925     9.104795     0.916583         8.316166   \n",
       "min       0.000000    18.000000     1.000000         5.000000   \n",
       "25%       0.000000    31.000000     1.000000         9.000000   \n",
       "50%       0.000000    36.000000     1.000000        13.000000   \n",
       "75%       0.000000    43.000000     3.000000        19.000000   \n",
       "max       1.000000    61.000000     3.000000       127.000000   \n",
       "\n",
       "       NumberOfPersonVisiting  NumberOfFollowups  PreferredPropertyStar  \\\n",
       "count             4888.000000        4888.000000            4888.000000   \n",
       "mean                 2.905074           3.711129               3.577946   \n",
       "std                  0.724891           0.998271               0.797005   \n",
       "min                  1.000000           1.000000               3.000000   \n",
       "25%                  2.000000           3.000000               3.000000   \n",
       "50%                  3.000000           4.000000               3.000000   \n",
       "75%                  3.000000           4.000000               4.000000   \n",
       "max                  5.000000           6.000000               5.000000   \n",
       "\n",
       "       NumberOfTrips     Passport  PitchSatisfactionScore       OwnCar  \\\n",
       "count    4888.000000  4888.000000             4888.000000  4888.000000   \n",
       "mean        3.143822     0.290917                3.078151     0.620295   \n",
       "std         1.900637     0.454232                1.365792     0.485363   \n",
       "min         0.000000     0.000000                1.000000     0.000000   \n",
       "25%         2.000000     0.000000                2.000000     0.000000   \n",
       "50%         3.000000     0.000000                3.000000     1.000000   \n",
       "75%         4.000000     1.000000                4.000000     1.000000   \n",
       "max        22.000000     1.000000                5.000000     1.000000   \n",
       "\n",
       "       NumberOfChildrenVisiting  MonthlyIncome  \n",
       "count               4888.000000    4888.000000  \n",
       "mean                   1.184738   23559.179419  \n",
       "std                    0.852323    5257.862921  \n",
       "min                    0.000000    1000.000000  \n",
       "25%                    1.000000   20485.000000  \n",
       "50%                    1.000000   22347.000000  \n",
       "75%                    2.000000   25424.750000  \n",
       "max                    3.000000   98678.000000  "
      ]
     },
     "execution_count": 77,
     "metadata": {},
     "output_type": "execute_result"
    }
   ],
   "source": [
    "data.describe()"
   ]
  },
  {
   "cell_type": "code",
   "execution_count": 78,
   "id": "e7561d67",
   "metadata": {},
   "outputs": [
    {
     "data": {
      "text/plain": [
       "ProdTaken                   0\n",
       "Age                         0\n",
       "TypeofContact               0\n",
       "CityTier                    0\n",
       "DurationOfPitch             0\n",
       "Occupation                  0\n",
       "Gender                      0\n",
       "NumberOfPersonVisiting      0\n",
       "NumberOfFollowups           0\n",
       "ProductPitched              0\n",
       "PreferredPropertyStar       0\n",
       "MaritalStatus               0\n",
       "NumberOfTrips               0\n",
       "Passport                    0\n",
       "PitchSatisfactionScore      0\n",
       "OwnCar                      0\n",
       "NumberOfChildrenVisiting    0\n",
       "Designation                 0\n",
       "MonthlyIncome               0\n",
       "dtype: int64"
      ]
     },
     "execution_count": 78,
     "metadata": {},
     "output_type": "execute_result"
    }
   ],
   "source": [
    "data.isnull().sum()"
   ]
  },
  {
   "cell_type": "code",
   "execution_count": 79,
   "id": "78255ae9",
   "metadata": {},
   "outputs": [],
   "source": [
    "## created a target median value column\n",
    "data['med']=data['MonthlyIncome'].median()"
   ]
  },
  {
   "cell_type": "code",
   "execution_count": 80,
   "id": "fc1ced4e",
   "metadata": {},
   "outputs": [
    {
     "data": {
      "text/html": [
       "<div>\n",
       "<style scoped>\n",
       "    .dataframe tbody tr th:only-of-type {\n",
       "        vertical-align: middle;\n",
       "    }\n",
       "\n",
       "    .dataframe tbody tr th {\n",
       "        vertical-align: top;\n",
       "    }\n",
       "\n",
       "    .dataframe thead th {\n",
       "        text-align: right;\n",
       "    }\n",
       "</style>\n",
       "<table border=\"1\" class=\"dataframe\">\n",
       "  <thead>\n",
       "    <tr style=\"text-align: right;\">\n",
       "      <th></th>\n",
       "      <th>ProdTaken</th>\n",
       "      <th>Age</th>\n",
       "      <th>TypeofContact</th>\n",
       "      <th>CityTier</th>\n",
       "      <th>DurationOfPitch</th>\n",
       "      <th>Occupation</th>\n",
       "      <th>Gender</th>\n",
       "      <th>NumberOfPersonVisiting</th>\n",
       "      <th>NumberOfFollowups</th>\n",
       "      <th>ProductPitched</th>\n",
       "      <th>PreferredPropertyStar</th>\n",
       "      <th>MaritalStatus</th>\n",
       "      <th>NumberOfTrips</th>\n",
       "      <th>Passport</th>\n",
       "      <th>PitchSatisfactionScore</th>\n",
       "      <th>OwnCar</th>\n",
       "      <th>NumberOfChildrenVisiting</th>\n",
       "      <th>Designation</th>\n",
       "      <th>MonthlyIncome</th>\n",
       "      <th>med</th>\n",
       "    </tr>\n",
       "  </thead>\n",
       "  <tbody>\n",
       "    <tr>\n",
       "      <th>0</th>\n",
       "      <td>1</td>\n",
       "      <td>41.0</td>\n",
       "      <td>Self Enquiry</td>\n",
       "      <td>3</td>\n",
       "      <td>6.0</td>\n",
       "      <td>Salaried</td>\n",
       "      <td>Female</td>\n",
       "      <td>3</td>\n",
       "      <td>3.0</td>\n",
       "      <td>Deluxe</td>\n",
       "      <td>3.0</td>\n",
       "      <td>Single</td>\n",
       "      <td>1.0</td>\n",
       "      <td>1</td>\n",
       "      <td>2</td>\n",
       "      <td>1</td>\n",
       "      <td>0.0</td>\n",
       "      <td>Manager</td>\n",
       "      <td>20993.0</td>\n",
       "      <td>22347.0</td>\n",
       "    </tr>\n",
       "    <tr>\n",
       "      <th>1</th>\n",
       "      <td>0</td>\n",
       "      <td>49.0</td>\n",
       "      <td>Company Invited</td>\n",
       "      <td>1</td>\n",
       "      <td>14.0</td>\n",
       "      <td>Salaried</td>\n",
       "      <td>Male</td>\n",
       "      <td>3</td>\n",
       "      <td>4.0</td>\n",
       "      <td>Deluxe</td>\n",
       "      <td>4.0</td>\n",
       "      <td>Divorced</td>\n",
       "      <td>2.0</td>\n",
       "      <td>0</td>\n",
       "      <td>3</td>\n",
       "      <td>1</td>\n",
       "      <td>2.0</td>\n",
       "      <td>Manager</td>\n",
       "      <td>20130.0</td>\n",
       "      <td>22347.0</td>\n",
       "    </tr>\n",
       "    <tr>\n",
       "      <th>2</th>\n",
       "      <td>1</td>\n",
       "      <td>37.0</td>\n",
       "      <td>Self Enquiry</td>\n",
       "      <td>1</td>\n",
       "      <td>8.0</td>\n",
       "      <td>Free Lancer</td>\n",
       "      <td>Male</td>\n",
       "      <td>3</td>\n",
       "      <td>4.0</td>\n",
       "      <td>Basic</td>\n",
       "      <td>3.0</td>\n",
       "      <td>Single</td>\n",
       "      <td>7.0</td>\n",
       "      <td>1</td>\n",
       "      <td>3</td>\n",
       "      <td>0</td>\n",
       "      <td>0.0</td>\n",
       "      <td>Executive</td>\n",
       "      <td>17090.0</td>\n",
       "      <td>22347.0</td>\n",
       "    </tr>\n",
       "    <tr>\n",
       "      <th>3</th>\n",
       "      <td>0</td>\n",
       "      <td>33.0</td>\n",
       "      <td>Company Invited</td>\n",
       "      <td>1</td>\n",
       "      <td>9.0</td>\n",
       "      <td>Salaried</td>\n",
       "      <td>Female</td>\n",
       "      <td>2</td>\n",
       "      <td>3.0</td>\n",
       "      <td>Basic</td>\n",
       "      <td>3.0</td>\n",
       "      <td>Divorced</td>\n",
       "      <td>2.0</td>\n",
       "      <td>1</td>\n",
       "      <td>5</td>\n",
       "      <td>1</td>\n",
       "      <td>1.0</td>\n",
       "      <td>Executive</td>\n",
       "      <td>17909.0</td>\n",
       "      <td>22347.0</td>\n",
       "    </tr>\n",
       "    <tr>\n",
       "      <th>4</th>\n",
       "      <td>0</td>\n",
       "      <td>36.0</td>\n",
       "      <td>Self Enquiry</td>\n",
       "      <td>1</td>\n",
       "      <td>8.0</td>\n",
       "      <td>Small Business</td>\n",
       "      <td>Male</td>\n",
       "      <td>2</td>\n",
       "      <td>3.0</td>\n",
       "      <td>Basic</td>\n",
       "      <td>4.0</td>\n",
       "      <td>Divorced</td>\n",
       "      <td>1.0</td>\n",
       "      <td>0</td>\n",
       "      <td>5</td>\n",
       "      <td>1</td>\n",
       "      <td>0.0</td>\n",
       "      <td>Executive</td>\n",
       "      <td>18468.0</td>\n",
       "      <td>22347.0</td>\n",
       "    </tr>\n",
       "    <tr>\n",
       "      <th>...</th>\n",
       "      <td>...</td>\n",
       "      <td>...</td>\n",
       "      <td>...</td>\n",
       "      <td>...</td>\n",
       "      <td>...</td>\n",
       "      <td>...</td>\n",
       "      <td>...</td>\n",
       "      <td>...</td>\n",
       "      <td>...</td>\n",
       "      <td>...</td>\n",
       "      <td>...</td>\n",
       "      <td>...</td>\n",
       "      <td>...</td>\n",
       "      <td>...</td>\n",
       "      <td>...</td>\n",
       "      <td>...</td>\n",
       "      <td>...</td>\n",
       "      <td>...</td>\n",
       "      <td>...</td>\n",
       "      <td>...</td>\n",
       "    </tr>\n",
       "    <tr>\n",
       "      <th>4883</th>\n",
       "      <td>1</td>\n",
       "      <td>49.0</td>\n",
       "      <td>Self Enquiry</td>\n",
       "      <td>3</td>\n",
       "      <td>9.0</td>\n",
       "      <td>Small Business</td>\n",
       "      <td>Male</td>\n",
       "      <td>3</td>\n",
       "      <td>5.0</td>\n",
       "      <td>Deluxe</td>\n",
       "      <td>4.0</td>\n",
       "      <td>Unmarried</td>\n",
       "      <td>2.0</td>\n",
       "      <td>1</td>\n",
       "      <td>1</td>\n",
       "      <td>1</td>\n",
       "      <td>1.0</td>\n",
       "      <td>Manager</td>\n",
       "      <td>26576.0</td>\n",
       "      <td>22347.0</td>\n",
       "    </tr>\n",
       "    <tr>\n",
       "      <th>4884</th>\n",
       "      <td>1</td>\n",
       "      <td>28.0</td>\n",
       "      <td>Company Invited</td>\n",
       "      <td>1</td>\n",
       "      <td>31.0</td>\n",
       "      <td>Salaried</td>\n",
       "      <td>Male</td>\n",
       "      <td>4</td>\n",
       "      <td>5.0</td>\n",
       "      <td>Basic</td>\n",
       "      <td>3.0</td>\n",
       "      <td>Single</td>\n",
       "      <td>3.0</td>\n",
       "      <td>1</td>\n",
       "      <td>3</td>\n",
       "      <td>1</td>\n",
       "      <td>2.0</td>\n",
       "      <td>Executive</td>\n",
       "      <td>21212.0</td>\n",
       "      <td>22347.0</td>\n",
       "    </tr>\n",
       "    <tr>\n",
       "      <th>4885</th>\n",
       "      <td>1</td>\n",
       "      <td>52.0</td>\n",
       "      <td>Self Enquiry</td>\n",
       "      <td>3</td>\n",
       "      <td>17.0</td>\n",
       "      <td>Salaried</td>\n",
       "      <td>Female</td>\n",
       "      <td>4</td>\n",
       "      <td>4.0</td>\n",
       "      <td>Standard</td>\n",
       "      <td>4.0</td>\n",
       "      <td>Married</td>\n",
       "      <td>7.0</td>\n",
       "      <td>0</td>\n",
       "      <td>1</td>\n",
       "      <td>1</td>\n",
       "      <td>3.0</td>\n",
       "      <td>Senior Manager</td>\n",
       "      <td>31820.0</td>\n",
       "      <td>22347.0</td>\n",
       "    </tr>\n",
       "    <tr>\n",
       "      <th>4886</th>\n",
       "      <td>1</td>\n",
       "      <td>19.0</td>\n",
       "      <td>Self Enquiry</td>\n",
       "      <td>3</td>\n",
       "      <td>16.0</td>\n",
       "      <td>Small Business</td>\n",
       "      <td>Male</td>\n",
       "      <td>3</td>\n",
       "      <td>4.0</td>\n",
       "      <td>Basic</td>\n",
       "      <td>3.0</td>\n",
       "      <td>Single</td>\n",
       "      <td>3.0</td>\n",
       "      <td>0</td>\n",
       "      <td>5</td>\n",
       "      <td>0</td>\n",
       "      <td>2.0</td>\n",
       "      <td>Executive</td>\n",
       "      <td>20289.0</td>\n",
       "      <td>22347.0</td>\n",
       "    </tr>\n",
       "    <tr>\n",
       "      <th>4887</th>\n",
       "      <td>1</td>\n",
       "      <td>36.0</td>\n",
       "      <td>Self Enquiry</td>\n",
       "      <td>1</td>\n",
       "      <td>14.0</td>\n",
       "      <td>Salaried</td>\n",
       "      <td>Male</td>\n",
       "      <td>4</td>\n",
       "      <td>4.0</td>\n",
       "      <td>Basic</td>\n",
       "      <td>4.0</td>\n",
       "      <td>Unmarried</td>\n",
       "      <td>3.0</td>\n",
       "      <td>1</td>\n",
       "      <td>3</td>\n",
       "      <td>1</td>\n",
       "      <td>2.0</td>\n",
       "      <td>Executive</td>\n",
       "      <td>24041.0</td>\n",
       "      <td>22347.0</td>\n",
       "    </tr>\n",
       "  </tbody>\n",
       "</table>\n",
       "<p>4888 rows × 20 columns</p>\n",
       "</div>"
      ],
      "text/plain": [
       "      ProdTaken   Age    TypeofContact  CityTier  DurationOfPitch  \\\n",
       "0             1  41.0     Self Enquiry         3              6.0   \n",
       "1             0  49.0  Company Invited         1             14.0   \n",
       "2             1  37.0     Self Enquiry         1              8.0   \n",
       "3             0  33.0  Company Invited         1              9.0   \n",
       "4             0  36.0     Self Enquiry         1              8.0   \n",
       "...         ...   ...              ...       ...              ...   \n",
       "4883          1  49.0     Self Enquiry         3              9.0   \n",
       "4884          1  28.0  Company Invited         1             31.0   \n",
       "4885          1  52.0     Self Enquiry         3             17.0   \n",
       "4886          1  19.0     Self Enquiry         3             16.0   \n",
       "4887          1  36.0     Self Enquiry         1             14.0   \n",
       "\n",
       "          Occupation  Gender  NumberOfPersonVisiting  NumberOfFollowups  \\\n",
       "0           Salaried  Female                       3                3.0   \n",
       "1           Salaried    Male                       3                4.0   \n",
       "2        Free Lancer    Male                       3                4.0   \n",
       "3           Salaried  Female                       2                3.0   \n",
       "4     Small Business    Male                       2                3.0   \n",
       "...              ...     ...                     ...                ...   \n",
       "4883  Small Business    Male                       3                5.0   \n",
       "4884        Salaried    Male                       4                5.0   \n",
       "4885        Salaried  Female                       4                4.0   \n",
       "4886  Small Business    Male                       3                4.0   \n",
       "4887        Salaried    Male                       4                4.0   \n",
       "\n",
       "     ProductPitched  PreferredPropertyStar MaritalStatus  NumberOfTrips  \\\n",
       "0            Deluxe                    3.0        Single            1.0   \n",
       "1            Deluxe                    4.0      Divorced            2.0   \n",
       "2             Basic                    3.0        Single            7.0   \n",
       "3             Basic                    3.0      Divorced            2.0   \n",
       "4             Basic                    4.0      Divorced            1.0   \n",
       "...             ...                    ...           ...            ...   \n",
       "4883         Deluxe                    4.0     Unmarried            2.0   \n",
       "4884          Basic                    3.0        Single            3.0   \n",
       "4885       Standard                    4.0       Married            7.0   \n",
       "4886          Basic                    3.0        Single            3.0   \n",
       "4887          Basic                    4.0     Unmarried            3.0   \n",
       "\n",
       "      Passport  PitchSatisfactionScore  OwnCar  NumberOfChildrenVisiting  \\\n",
       "0            1                       2       1                       0.0   \n",
       "1            0                       3       1                       2.0   \n",
       "2            1                       3       0                       0.0   \n",
       "3            1                       5       1                       1.0   \n",
       "4            0                       5       1                       0.0   \n",
       "...        ...                     ...     ...                       ...   \n",
       "4883         1                       1       1                       1.0   \n",
       "4884         1                       3       1                       2.0   \n",
       "4885         0                       1       1                       3.0   \n",
       "4886         0                       5       0                       2.0   \n",
       "4887         1                       3       1                       2.0   \n",
       "\n",
       "         Designation  MonthlyIncome      med  \n",
       "0            Manager        20993.0  22347.0  \n",
       "1            Manager        20130.0  22347.0  \n",
       "2          Executive        17090.0  22347.0  \n",
       "3          Executive        17909.0  22347.0  \n",
       "4          Executive        18468.0  22347.0  \n",
       "...              ...            ...      ...  \n",
       "4883         Manager        26576.0  22347.0  \n",
       "4884       Executive        21212.0  22347.0  \n",
       "4885  Senior Manager        31820.0  22347.0  \n",
       "4886       Executive        20289.0  22347.0  \n",
       "4887       Executive        24041.0  22347.0  \n",
       "\n",
       "[4888 rows x 20 columns]"
      ]
     },
     "execution_count": 80,
     "metadata": {},
     "output_type": "execute_result"
    }
   ],
   "source": [
    "data"
   ]
  },
  {
   "cell_type": "code",
   "execution_count": 81,
   "id": "1dffbbb9",
   "metadata": {},
   "outputs": [
    {
     "data": {
      "text/plain": [
       "['ProdTaken',\n",
       " 'Age',\n",
       " 'CityTier',\n",
       " 'DurationOfPitch',\n",
       " 'NumberOfPersonVisiting',\n",
       " 'NumberOfFollowups',\n",
       " 'PreferredPropertyStar',\n",
       " 'NumberOfTrips',\n",
       " 'Passport',\n",
       " 'PitchSatisfactionScore',\n",
       " 'OwnCar',\n",
       " 'NumberOfChildrenVisiting',\n",
       " 'MonthlyIncome',\n",
       " 'med']"
      ]
     },
     "execution_count": 81,
     "metadata": {},
     "output_type": "execute_result"
    }
   ],
   "source": [
    "# make a list of numerical variables\n",
    "data_num= [var for var in data.columns if data[var].dtype != 'O']\n",
    "data_num"
   ]
  },
  {
   "cell_type": "code",
   "execution_count": 82,
   "id": "598ed827",
   "metadata": {},
   "outputs": [
    {
     "data": {
      "text/html": [
       "<div>\n",
       "<style scoped>\n",
       "    .dataframe tbody tr th:only-of-type {\n",
       "        vertical-align: middle;\n",
       "    }\n",
       "\n",
       "    .dataframe tbody tr th {\n",
       "        vertical-align: top;\n",
       "    }\n",
       "\n",
       "    .dataframe thead th {\n",
       "        text-align: right;\n",
       "    }\n",
       "</style>\n",
       "<table border=\"1\" class=\"dataframe\">\n",
       "  <thead>\n",
       "    <tr style=\"text-align: right;\">\n",
       "      <th></th>\n",
       "      <th>ProdTaken</th>\n",
       "      <th>Age</th>\n",
       "      <th>CityTier</th>\n",
       "      <th>DurationOfPitch</th>\n",
       "      <th>NumberOfPersonVisiting</th>\n",
       "      <th>NumberOfFollowups</th>\n",
       "      <th>PreferredPropertyStar</th>\n",
       "      <th>NumberOfTrips</th>\n",
       "      <th>Passport</th>\n",
       "      <th>PitchSatisfactionScore</th>\n",
       "      <th>OwnCar</th>\n",
       "      <th>NumberOfChildrenVisiting</th>\n",
       "      <th>MonthlyIncome</th>\n",
       "      <th>med</th>\n",
       "    </tr>\n",
       "  </thead>\n",
       "  <tbody>\n",
       "    <tr>\n",
       "      <th>0</th>\n",
       "      <td>1</td>\n",
       "      <td>41.0</td>\n",
       "      <td>3</td>\n",
       "      <td>6.0</td>\n",
       "      <td>3</td>\n",
       "      <td>3.0</td>\n",
       "      <td>3.0</td>\n",
       "      <td>1.0</td>\n",
       "      <td>1</td>\n",
       "      <td>2</td>\n",
       "      <td>1</td>\n",
       "      <td>0.0</td>\n",
       "      <td>20993.0</td>\n",
       "      <td>22347.0</td>\n",
       "    </tr>\n",
       "    <tr>\n",
       "      <th>1</th>\n",
       "      <td>0</td>\n",
       "      <td>49.0</td>\n",
       "      <td>1</td>\n",
       "      <td>14.0</td>\n",
       "      <td>3</td>\n",
       "      <td>4.0</td>\n",
       "      <td>4.0</td>\n",
       "      <td>2.0</td>\n",
       "      <td>0</td>\n",
       "      <td>3</td>\n",
       "      <td>1</td>\n",
       "      <td>2.0</td>\n",
       "      <td>20130.0</td>\n",
       "      <td>22347.0</td>\n",
       "    </tr>\n",
       "    <tr>\n",
       "      <th>2</th>\n",
       "      <td>1</td>\n",
       "      <td>37.0</td>\n",
       "      <td>1</td>\n",
       "      <td>8.0</td>\n",
       "      <td>3</td>\n",
       "      <td>4.0</td>\n",
       "      <td>3.0</td>\n",
       "      <td>7.0</td>\n",
       "      <td>1</td>\n",
       "      <td>3</td>\n",
       "      <td>0</td>\n",
       "      <td>0.0</td>\n",
       "      <td>17090.0</td>\n",
       "      <td>22347.0</td>\n",
       "    </tr>\n",
       "    <tr>\n",
       "      <th>3</th>\n",
       "      <td>0</td>\n",
       "      <td>33.0</td>\n",
       "      <td>1</td>\n",
       "      <td>9.0</td>\n",
       "      <td>2</td>\n",
       "      <td>3.0</td>\n",
       "      <td>3.0</td>\n",
       "      <td>2.0</td>\n",
       "      <td>1</td>\n",
       "      <td>5</td>\n",
       "      <td>1</td>\n",
       "      <td>1.0</td>\n",
       "      <td>17909.0</td>\n",
       "      <td>22347.0</td>\n",
       "    </tr>\n",
       "    <tr>\n",
       "      <th>4</th>\n",
       "      <td>0</td>\n",
       "      <td>36.0</td>\n",
       "      <td>1</td>\n",
       "      <td>8.0</td>\n",
       "      <td>2</td>\n",
       "      <td>3.0</td>\n",
       "      <td>4.0</td>\n",
       "      <td>1.0</td>\n",
       "      <td>0</td>\n",
       "      <td>5</td>\n",
       "      <td>1</td>\n",
       "      <td>0.0</td>\n",
       "      <td>18468.0</td>\n",
       "      <td>22347.0</td>\n",
       "    </tr>\n",
       "    <tr>\n",
       "      <th>...</th>\n",
       "      <td>...</td>\n",
       "      <td>...</td>\n",
       "      <td>...</td>\n",
       "      <td>...</td>\n",
       "      <td>...</td>\n",
       "      <td>...</td>\n",
       "      <td>...</td>\n",
       "      <td>...</td>\n",
       "      <td>...</td>\n",
       "      <td>...</td>\n",
       "      <td>...</td>\n",
       "      <td>...</td>\n",
       "      <td>...</td>\n",
       "      <td>...</td>\n",
       "    </tr>\n",
       "    <tr>\n",
       "      <th>4883</th>\n",
       "      <td>1</td>\n",
       "      <td>49.0</td>\n",
       "      <td>3</td>\n",
       "      <td>9.0</td>\n",
       "      <td>3</td>\n",
       "      <td>5.0</td>\n",
       "      <td>4.0</td>\n",
       "      <td>2.0</td>\n",
       "      <td>1</td>\n",
       "      <td>1</td>\n",
       "      <td>1</td>\n",
       "      <td>1.0</td>\n",
       "      <td>26576.0</td>\n",
       "      <td>22347.0</td>\n",
       "    </tr>\n",
       "    <tr>\n",
       "      <th>4884</th>\n",
       "      <td>1</td>\n",
       "      <td>28.0</td>\n",
       "      <td>1</td>\n",
       "      <td>31.0</td>\n",
       "      <td>4</td>\n",
       "      <td>5.0</td>\n",
       "      <td>3.0</td>\n",
       "      <td>3.0</td>\n",
       "      <td>1</td>\n",
       "      <td>3</td>\n",
       "      <td>1</td>\n",
       "      <td>2.0</td>\n",
       "      <td>21212.0</td>\n",
       "      <td>22347.0</td>\n",
       "    </tr>\n",
       "    <tr>\n",
       "      <th>4885</th>\n",
       "      <td>1</td>\n",
       "      <td>52.0</td>\n",
       "      <td>3</td>\n",
       "      <td>17.0</td>\n",
       "      <td>4</td>\n",
       "      <td>4.0</td>\n",
       "      <td>4.0</td>\n",
       "      <td>7.0</td>\n",
       "      <td>0</td>\n",
       "      <td>1</td>\n",
       "      <td>1</td>\n",
       "      <td>3.0</td>\n",
       "      <td>31820.0</td>\n",
       "      <td>22347.0</td>\n",
       "    </tr>\n",
       "    <tr>\n",
       "      <th>4886</th>\n",
       "      <td>1</td>\n",
       "      <td>19.0</td>\n",
       "      <td>3</td>\n",
       "      <td>16.0</td>\n",
       "      <td>3</td>\n",
       "      <td>4.0</td>\n",
       "      <td>3.0</td>\n",
       "      <td>3.0</td>\n",
       "      <td>0</td>\n",
       "      <td>5</td>\n",
       "      <td>0</td>\n",
       "      <td>2.0</td>\n",
       "      <td>20289.0</td>\n",
       "      <td>22347.0</td>\n",
       "    </tr>\n",
       "    <tr>\n",
       "      <th>4887</th>\n",
       "      <td>1</td>\n",
       "      <td>36.0</td>\n",
       "      <td>1</td>\n",
       "      <td>14.0</td>\n",
       "      <td>4</td>\n",
       "      <td>4.0</td>\n",
       "      <td>4.0</td>\n",
       "      <td>3.0</td>\n",
       "      <td>1</td>\n",
       "      <td>3</td>\n",
       "      <td>1</td>\n",
       "      <td>2.0</td>\n",
       "      <td>24041.0</td>\n",
       "      <td>22347.0</td>\n",
       "    </tr>\n",
       "  </tbody>\n",
       "</table>\n",
       "<p>4888 rows × 14 columns</p>\n",
       "</div>"
      ],
      "text/plain": [
       "      ProdTaken   Age  CityTier  DurationOfPitch  NumberOfPersonVisiting  \\\n",
       "0             1  41.0         3              6.0                       3   \n",
       "1             0  49.0         1             14.0                       3   \n",
       "2             1  37.0         1              8.0                       3   \n",
       "3             0  33.0         1              9.0                       2   \n",
       "4             0  36.0         1              8.0                       2   \n",
       "...         ...   ...       ...              ...                     ...   \n",
       "4883          1  49.0         3              9.0                       3   \n",
       "4884          1  28.0         1             31.0                       4   \n",
       "4885          1  52.0         3             17.0                       4   \n",
       "4886          1  19.0         3             16.0                       3   \n",
       "4887          1  36.0         1             14.0                       4   \n",
       "\n",
       "      NumberOfFollowups  PreferredPropertyStar  NumberOfTrips  Passport  \\\n",
       "0                   3.0                    3.0            1.0         1   \n",
       "1                   4.0                    4.0            2.0         0   \n",
       "2                   4.0                    3.0            7.0         1   \n",
       "3                   3.0                    3.0            2.0         1   \n",
       "4                   3.0                    4.0            1.0         0   \n",
       "...                 ...                    ...            ...       ...   \n",
       "4883                5.0                    4.0            2.0         1   \n",
       "4884                5.0                    3.0            3.0         1   \n",
       "4885                4.0                    4.0            7.0         0   \n",
       "4886                4.0                    3.0            3.0         0   \n",
       "4887                4.0                    4.0            3.0         1   \n",
       "\n",
       "      PitchSatisfactionScore  OwnCar  NumberOfChildrenVisiting  MonthlyIncome  \\\n",
       "0                          2       1                       0.0        20993.0   \n",
       "1                          3       1                       2.0        20130.0   \n",
       "2                          3       0                       0.0        17090.0   \n",
       "3                          5       1                       1.0        17909.0   \n",
       "4                          5       1                       0.0        18468.0   \n",
       "...                      ...     ...                       ...            ...   \n",
       "4883                       1       1                       1.0        26576.0   \n",
       "4884                       3       1                       2.0        21212.0   \n",
       "4885                       1       1                       3.0        31820.0   \n",
       "4886                       5       0                       2.0        20289.0   \n",
       "4887                       3       1                       2.0        24041.0   \n",
       "\n",
       "          med  \n",
       "0     22347.0  \n",
       "1     22347.0  \n",
       "2     22347.0  \n",
       "3     22347.0  \n",
       "4     22347.0  \n",
       "...       ...  \n",
       "4883  22347.0  \n",
       "4884  22347.0  \n",
       "4885  22347.0  \n",
       "4886  22347.0  \n",
       "4887  22347.0  \n",
       "\n",
       "[4888 rows x 14 columns]"
      ]
     },
     "execution_count": 82,
     "metadata": {},
     "output_type": "execute_result"
    }
   ],
   "source": [
    "data[data_num]\n"
   ]
  },
  {
   "cell_type": "code",
   "execution_count": 83,
   "id": "ec7d829a",
   "metadata": {},
   "outputs": [
    {
     "data": {
      "text/plain": [
       "((3421, 13), (1467, 13))"
      ]
     },
     "execution_count": 83,
     "metadata": {},
     "output_type": "execute_result"
    }
   ],
   "source": [
    "# let's separate the data into training and testing set\n",
    "\n",
    "X_train, X_test, y_train, y_test = train_test_split(data[data_num].drop('med', axis=1),\n",
    "                                                    data[data_num]['med'],\n",
    "                                                    test_size=0.3,\n",
    "                                                    random_state=0)\n",
    "\n",
    "X_train.shape, X_test.shape"
   ]
  },
  {
   "cell_type": "markdown",
   "id": "eddb554d",
   "metadata": {},
   "source": [
    "# standardisation: with the StandardScaler from sklearn"
   ]
  },
  {
   "cell_type": "code",
   "execution_count": 84,
   "id": "1a073aa7",
   "metadata": {},
   "outputs": [],
   "source": [
    "# set up the scaler\n",
    "scaler = StandardScaler()\n",
    "\n",
    "# fit the scaler to the train set, it will learn the parameters\n",
    "scaler.fit(X_train)\n",
    "\n",
    "# transform train and test sets\n",
    "X_train_scaled = scaler.transform(X_train)\n",
    "X_test_scaled = scaler.transform(X_test)"
   ]
  },
  {
   "cell_type": "code",
   "execution_count": 85,
   "id": "426d9d50",
   "metadata": {},
   "outputs": [
    {
     "data": {
      "text/plain": [
       "array([1.89418299e-01, 3.76302251e+01, 1.65156387e+00, 1.52011108e+01,\n",
       "       2.90704472e+00, 3.71061093e+00, 3.57848582e+00, 3.17275650e+00,\n",
       "       3.00789243e-01, 3.07541654e+00, 6.22332651e-01, 1.17187957e+00,\n",
       "       2.35610865e+04])"
      ]
     },
     "execution_count": 85,
     "metadata": {},
     "output_type": "execute_result"
    }
   ],
   "source": [
    "# the scaler stores the mean of the features, learned from train set\n",
    "\n",
    "scaler.mean_"
   ]
  },
  {
   "cell_type": "code",
   "execution_count": 86,
   "id": "83b5d452",
   "metadata": {},
   "outputs": [
    {
     "data": {
      "text/plain": [
       "array([3.91840538e-01, 9.14144327e+00, 9.13484057e-01, 8.15409248e+00,\n",
       "       7.18169468e-01, 1.00473955e+00, 7.96472888e-01, 1.90454010e+00,\n",
       "       4.58601215e-01, 1.37081776e+00, 4.84803798e-01, 8.46426678e-01,\n",
       "       5.30761179e+03])"
      ]
     },
     "execution_count": 86,
     "metadata": {},
     "output_type": "execute_result"
    }
   ],
   "source": [
    "# the scaler stores the standard deviation deviation of the features,\n",
    "# learned from train set\n",
    "\n",
    "scaler.scale_"
   ]
  },
  {
   "cell_type": "code",
   "execution_count": 87,
   "id": "3ff550e4",
   "metadata": {},
   "outputs": [],
   "source": [
    "# let's transform the returned NumPy arrays to dataframes\n",
    "\n",
    "X_train_scaled = pd.DataFrame(X_train_scaled, columns=X_train.columns)\n",
    "X_test_scaled = pd.DataFrame(X_test_scaled, columns=X_test.columns)"
   ]
  },
  {
   "cell_type": "code",
   "execution_count": 88,
   "id": "4d2fa55f",
   "metadata": {},
   "outputs": [
    {
     "data": {
      "image/png": "[encoded data removed]",
      "text/plain": [
       "<Figure size 864x360 with 2 Axes>"
      ]
     },
     "metadata": {
      "needs_background": "light"
     },
     "output_type": "display_data"
    }
   ],
   "source": [
    "# let's compare the variable distributions before and after scaling\n",
    "\n",
    "fig, (ax1, ax2) = plt.subplots(ncols=2, figsize=(12, 5))\n",
    "\n",
    "# before scaling\n",
    "ax1.set_title('Before Scaling')\n",
    "sns.kdeplot(X_train['CityTier'], ax=ax1)\n",
    "sns.kdeplot(X_train['DurationOfPitch'], ax=ax1)\n",
    "sns.kdeplot(X_train['NumberOfPersonVisiting'], ax=ax1)\n",
    "\n",
    "# after scaling\n",
    "ax2.set_title('After Standard Scaling')\n",
    "sns.kdeplot(X_train_scaled['CityTier'], ax=ax2)\n",
    "sns.kdeplot(X_train_scaled['DurationOfPitch'], ax=ax2)\n",
    "sns.kdeplot(X_train_scaled['NumberOfPersonVisiting'], ax=ax2)\n",
    "plt.show()"
   ]
  },
  {
   "cell_type": "markdown",
   "id": "b949c992",
   "metadata": {},
   "source": [
    "Note from the above plots how standardisation centered most of the distributions at zero, but it preserved their original distribution. The value range is not identical, but it looks more homogeneous across the variables."
   ]
  },
  {
   "cell_type": "markdown",
   "id": "cb7a3279",
   "metadata": {},
   "source": [
    "# Mean Normalization\n",
    "Mean normalization involves centering the variable at zero, and re-scaling to the value range. The procedure involves subtracting the mean of each observation and then dividing by difference between the minimum and maximum value:\n",
    "\n",
    "x_scaled = (x - x_mean) / ( x_max - x_min)"
   ]
  },
  {
   "cell_type": "code",
   "execution_count": 89,
   "id": "b3efc8cb",
   "metadata": {},
   "outputs": [
    {
     "data": {
      "text/plain": [
       "((3421, 13), (1467, 13))"
      ]
     },
     "execution_count": 89,
     "metadata": {},
     "output_type": "execute_result"
    }
   ],
   "source": [
    "# let's separate the data into training and testing set\n",
    "\n",
    "X_train, X_test, y_train, y_test = train_test_split(data[data_num].drop('med', axis=1),\n",
    "                                                    data[data_num]['med'],\n",
    "                                                    test_size=0.3,\n",
    "                                                    random_state=0)\n",
    "\n",
    "X_train.shape, X_test.shape"
   ]
  },
  {
   "cell_type": "code",
   "execution_count": 90,
   "id": "4eb560f1",
   "metadata": {},
   "outputs": [
    {
     "data": {
      "text/plain": [
       "ProdTaken                       0.189418\n",
       "Age                            37.630225\n",
       "CityTier                        1.651564\n",
       "DurationOfPitch                15.201111\n",
       "NumberOfPersonVisiting          2.907045\n",
       "NumberOfFollowups               3.710611\n",
       "PreferredPropertyStar           3.578486\n",
       "NumberOfTrips                   3.172757\n",
       "Passport                        0.300789\n",
       "PitchSatisfactionScore          3.075417\n",
       "OwnCar                          0.622333\n",
       "NumberOfChildrenVisiting        1.171880\n",
       "MonthlyIncome               23561.086524\n",
       "dtype: float64"
      ]
     },
     "execution_count": 90,
     "metadata": {},
     "output_type": "execute_result"
    }
   ],
   "source": [
    "# let's first learn the mean from the train set\n",
    "means = X_train.mean(axis=0)\n",
    "means"
   ]
  },
  {
   "cell_type": "code",
   "execution_count": 91,
   "id": "5f06c1d1",
   "metadata": {},
   "outputs": [
    {
     "data": {
      "text/plain": [
       "ProdTaken                       1.0\n",
       "Age                            43.0\n",
       "CityTier                        2.0\n",
       "DurationOfPitch               121.0\n",
       "NumberOfPersonVisiting          4.0\n",
       "NumberOfFollowups               5.0\n",
       "PreferredPropertyStar           2.0\n",
       "NumberOfTrips                  21.0\n",
       "Passport                        1.0\n",
       "PitchSatisfactionScore          4.0\n",
       "OwnCar                          1.0\n",
       "NumberOfChildrenVisiting        3.0\n",
       "MonthlyIncome               82669.0\n",
       "dtype: float64"
      ]
     },
     "execution_count": 91,
     "metadata": {},
     "output_type": "execute_result"
    }
   ],
   "source": [
    "# let's now learn the min and max values, and the value range \n",
    "# from the train set\n",
    "\n",
    "ranges = X_train.max(axis=0)-X_train.min(axis=0)\n",
    "ranges"
   ]
  },
  {
   "cell_type": "code",
   "execution_count": 92,
   "id": "733df2d7",
   "metadata": {},
   "outputs": [],
   "source": [
    "# now we are ready to perform mean normalization:\n",
    "\n",
    "X_train_scaled = (X_train - means) / ranges\n",
    "X_test_scaled = (X_test - means) / ranges"
   ]
  },
  {
   "cell_type": "markdown",
   "id": "7ce8fd88",
   "metadata": {},
   "source": [
    "# Scaling to Minimum and Maximum values - MinMaxScaling\n",
    "Minimum and maximum scaling squeezes the values between 0 and 1. It subtracts the minimum value from all the observations, and then divides it by the value range:\n",
    "\n",
    "X_scaled = (X - X.min / (X.max - X.min)"
   ]
  },
  {
   "cell_type": "code",
   "execution_count": 93,
   "id": "13738ecd",
   "metadata": {},
   "outputs": [],
   "source": [
    "from sklearn.preprocessing import MinMaxScaler"
   ]
  },
  {
   "cell_type": "code",
   "execution_count": 94,
   "id": "152a16b5",
   "metadata": {},
   "outputs": [
    {
     "data": {
      "text/plain": [
       "((3421, 13), (1467, 13))"
      ]
     },
     "execution_count": 94,
     "metadata": {},
     "output_type": "execute_result"
    }
   ],
   "source": [
    "# let's separate the data into training and testing set\n",
    "\n",
    "X_train, X_test, y_train, y_test = train_test_split(data[data_num].drop('med', axis=1),\n",
    "                                                    data[data_num]['med'],\n",
    "                                                    test_size=0.3,\n",
    "                                                    random_state=0)\n",
    "\n",
    "X_train.shape, X_test.shape"
   ]
  },
  {
   "cell_type": "code",
   "execution_count": 95,
   "id": "8ae673d1",
   "metadata": {},
   "outputs": [],
   "source": [
    "# set up the scaler\n",
    "scaler = MinMaxScaler()\n",
    "\n",
    "# fit the scaler to the train set, it will learn the parameters\n",
    "scaler.fit(X_train)\n",
    "\n",
    "# transform train and test sets\n",
    "X_train_scaled = scaler.transform(X_train)\n",
    "X_test_scaled = scaler.transform(X_test)"
   ]
  },
  {
   "cell_type": "code",
   "execution_count": 96,
   "id": "2edb3e60",
   "metadata": {},
   "outputs": [
    {
     "data": {
      "text/plain": [
       "array([1.0000e+00, 6.1000e+01, 3.0000e+00, 1.2600e+02, 5.0000e+00,\n",
       "       6.0000e+00, 5.0000e+00, 2.1000e+01, 1.0000e+00, 5.0000e+00,\n",
       "       1.0000e+00, 3.0000e+00, 9.8678e+04])"
      ]
     },
     "execution_count": 96,
     "metadata": {},
     "output_type": "execute_result"
    }
   ],
   "source": [
    "# the scaler stores the maximum values of the features, learned from train set\n",
    "scaler.data_max_"
   ]
  },
  {
   "cell_type": "code",
   "execution_count": 97,
   "id": "212bb616",
   "metadata": {},
   "outputs": [
    {
     "data": {
      "text/plain": [
       "array([ 0.        , -0.41860465, -0.5       , -0.04132231, -0.25      ,\n",
       "       -0.2       , -1.5       ,  0.        ,  0.        , -0.25      ,\n",
       "        0.        ,  0.        , -0.19365179])"
      ]
     },
     "execution_count": 97,
     "metadata": {},
     "output_type": "execute_result"
    }
   ],
   "source": [
    "# tthe scaler stores the minimum values of the features, learned from train set\n",
    "scaler.min_"
   ]
  },
  {
   "cell_type": "code",
   "execution_count": 98,
   "id": "136de517",
   "metadata": {},
   "outputs": [
    {
     "data": {
      "text/plain": [
       "array([1.0000e+00, 4.3000e+01, 2.0000e+00, 1.2100e+02, 4.0000e+00,\n",
       "       5.0000e+00, 2.0000e+00, 2.1000e+01, 1.0000e+00, 4.0000e+00,\n",
       "       1.0000e+00, 3.0000e+00, 8.2669e+04])"
      ]
     },
     "execution_count": 98,
     "metadata": {},
     "output_type": "execute_result"
    }
   ],
   "source": [
    "# the scaler also stores the value range (max -  min)\n",
    "\n",
    "scaler.data_range_"
   ]
  },
  {
   "cell_type": "code",
   "execution_count": 99,
   "id": "6d149199",
   "metadata": {},
   "outputs": [],
   "source": [
    "# let's transform the returned NumPy arrays to dataframes\n",
    "\n",
    "X_train_scaled = pd.DataFrame(X_train_scaled, columns=X_train.columns)\n",
    "X_test_scaled = pd.DataFrame(X_test_scaled, columns=X_test.columns)"
   ]
  },
  {
   "cell_type": "code",
   "execution_count": 100,
   "id": "3b241d2e",
   "metadata": {},
   "outputs": [
    {
     "data": {
      "image/png": "[encoded data removed]",
      "text/plain": [
       "<Figure size 864x360 with 2 Axes>"
      ]
     },
     "metadata": {
      "needs_background": "light"
     },
     "output_type": "display_data"
    }
   ],
   "source": [
    "# let's compare the variable distributions before and after scaling\n",
    "\n",
    "fig, (ax1, ax2) = plt.subplots(ncols=2, figsize=(12, 5))\n",
    "\n",
    "# before scaling\n",
    "ax1.set_title('Before Scaling')\n",
    "sns.kdeplot(X_train['CityTier'], ax=ax1)\n",
    "sns.kdeplot(X_train['DurationOfPitch'], ax=ax1)\n",
    "sns.kdeplot(X_train['NumberOfPersonVisiting'], ax=ax1)\n",
    "\n",
    "# after scaling\n",
    "ax2.set_title('After MinMaxScaling')\n",
    "sns.kdeplot(X_train_scaled['CityTier'], ax=ax2)\n",
    "sns.kdeplot(X_train_scaled['DurationOfPitch'], ax=ax2)\n",
    "sns.kdeplot(X_train_scaled['NumberOfPersonVisiting'], ax=ax2)\n",
    "plt.show()"
   ]
  },
  {
   "cell_type": "markdown",
   "id": "3a3a588a",
   "metadata": {},
   "source": [
    "# Scaling to maximum value - MaxAbsScaling\n",
    "Maximum absolute scaling scales the data to its maximum value:\n",
    "\n",
    "X_scaled = X / X.max"
   ]
  },
  {
   "cell_type": "code",
   "execution_count": 101,
   "id": "ef961267",
   "metadata": {},
   "outputs": [],
   "source": [
    "from sklearn.preprocessing import MaxAbsScaler"
   ]
  },
  {
   "cell_type": "code",
   "execution_count": 102,
   "id": "10e45229",
   "metadata": {},
   "outputs": [
    {
     "data": {
      "text/plain": [
       "((3421, 13), (1467, 13))"
      ]
     },
     "execution_count": 102,
     "metadata": {},
     "output_type": "execute_result"
    }
   ],
   "source": [
    "# let's separate the data into training and testing set\n",
    "\n",
    "X_train, X_test, y_train, y_test = train_test_split(data[data_num].drop('med', axis=1),\n",
    "                                                    data[data_num]['med'],\n",
    "                                                    test_size=0.3,\n",
    "                                                    random_state=0)\n",
    "\n",
    "X_train.shape, X_test.shape"
   ]
  },
  {
   "cell_type": "code",
   "execution_count": 103,
   "id": "0b323787",
   "metadata": {},
   "outputs": [],
   "source": [
    "# set up the scaler\n",
    "scaler = MaxAbsScaler()\n",
    "\n",
    "# fit the scaler to the train set, it will learn the parameters\n",
    "scaler.fit(X_train)\n",
    "\n",
    "# transform train and test sets\n",
    "X_train_scaled = scaler.transform(X_train)\n",
    "X_test_scaled = scaler.transform(X_test)"
   ]
  },
  {
   "cell_type": "code",
   "execution_count": 104,
   "id": "f8357cef",
   "metadata": {},
   "outputs": [
    {
     "data": {
      "text/plain": [
       "array([1.0000e+00, 6.1000e+01, 3.0000e+00, 1.2600e+02, 5.0000e+00,\n",
       "       6.0000e+00, 5.0000e+00, 2.1000e+01, 1.0000e+00, 5.0000e+00,\n",
       "       1.0000e+00, 3.0000e+00, 9.8678e+04])"
      ]
     },
     "execution_count": 104,
     "metadata": {},
     "output_type": "execute_result"
    }
   ],
   "source": [
    "# the scaler stores the maximum values of the features as learned from train set\n",
    "scaler.max_abs_"
   ]
  },
  {
   "cell_type": "code",
   "execution_count": 105,
   "id": "30c71b43",
   "metadata": {},
   "outputs": [],
   "source": [
    "# let's transform the returned NumPy arrays to dataframes \n",
    "\n",
    "X_train_scaled = pd.DataFrame(X_train_scaled, columns=X_train.columns)\n",
    "X_test_scaled = pd.DataFrame(X_test_scaled, columns=X_test.columns)"
   ]
  },
  {
   "cell_type": "code",
   "execution_count": 106,
   "id": "1a06f1cc",
   "metadata": {},
   "outputs": [
    {
     "data": {
      "image/png": "[encoded data removed]",
      "text/plain": [
       "<Figure size 864x360 with 2 Axes>"
      ]
     },
     "metadata": {
      "needs_background": "light"
     },
     "output_type": "display_data"
    }
   ],
   "source": [
    "# let's compare the variable distributions before and after scaling\n",
    "\n",
    "fig, (ax1, ax2) = plt.subplots(ncols=2, figsize=(12, 5))\n",
    "\n",
    "# before scaling\n",
    "ax1.set_title('Before Scaling')\n",
    "sns.kdeplot(X_train['CityTier'], ax=ax1)\n",
    "sns.kdeplot(X_train['DurationOfPitch'], ax=ax1)\n",
    "sns.kdeplot(X_train['NumberOfPersonVisiting'], ax=ax1)\n",
    "\n",
    "# after scaling\n",
    "ax2.set_title('After MaxAbsScaling')\n",
    "sns.kdeplot(X_train_scaled['CityTier'], ax=ax2)\n",
    "sns.kdeplot(X_train_scaled['DurationOfPitch'], ax=ax2)\n",
    "sns.kdeplot(X_train_scaled['NumberOfPersonVisiting'], ax=ax2)\n",
    "plt.show()"
   ]
  },
  {
   "cell_type": "markdown",
   "id": "81284d5d",
   "metadata": {},
   "source": [
    "# Centering + MaxAbsScaling\n",
    "We can center the distributions at zero and then scale to its absolute maximum, as recommended by Scikit-learn by combining the use of 2 transformers."
   ]
  },
  {
   "cell_type": "code",
   "execution_count": 107,
   "id": "9c67941a",
   "metadata": {},
   "outputs": [
    {
     "name": "stderr",
     "output_type": "stream",
     "text": [
      "C:\\Users\\prate\\anaconda3\\lib\\site-packages\\sklearn\\base.py:450: UserWarning: X does not have valid feature names, but MaxAbsScaler was fitted with feature names\n",
      "  warnings.warn(\n",
      "C:\\Users\\prate\\anaconda3\\lib\\site-packages\\sklearn\\base.py:450: UserWarning: X does not have valid feature names, but MaxAbsScaler was fitted with feature names\n",
      "  warnings.warn(\n"
     ]
    }
   ],
   "source": [
    "# set up the StandardScaler so that it removes the mean\n",
    "# but does not divide by the standard deviation\n",
    "scaler_mean = StandardScaler(with_mean=True, with_std=False)\n",
    "\n",
    "# set up the MaxAbsScaler normally\n",
    "scaler_maxabs = MaxAbsScaler()\n",
    "\n",
    "# fit the scalers to the train set, it will learn the parameters\n",
    "scaler_mean.fit(X_train)\n",
    "scaler_maxabs.fit(X_train)\n",
    "\n",
    "# transform train and test sets\n",
    "X_train_scaled = scaler_maxabs.transform(scaler_mean.transform(X_train))\n",
    "X_test_scaled = scaler_maxabs.transform(scaler_mean.transform(X_test))"
   ]
  },
  {
   "cell_type": "code",
   "execution_count": 108,
   "id": "1386ab5e",
   "metadata": {},
   "outputs": [],
   "source": [
    "#let's transform the returned NumPy arrays to dataframes for the rest of\n",
    "# the demo\n",
    "\n",
    "X_train_scaled = pd.DataFrame(X_train_scaled, columns=X_train.columns)\n",
    "X_test_scaled = pd.DataFrame(X_test_scaled, columns=X_test.columns)"
   ]
  },
  {
   "cell_type": "code",
   "execution_count": 109,
   "id": "39d6a471",
   "metadata": {},
   "outputs": [
    {
     "data": {
      "image/png": "[encoded data removed]",
      "text/plain": [
       "<Figure size 864x360 with 2 Axes>"
      ]
     },
     "metadata": {
      "needs_background": "light"
     },
     "output_type": "display_data"
    }
   ],
   "source": [
    "# let's compare the variable distributions before and after scaling\n",
    "\n",
    "fig, (ax1, ax2) = plt.subplots(ncols=2, figsize=(12, 5))\n",
    "\n",
    "# before scaling\n",
    "ax1.set_title('Before Scaling')\n",
    "sns.kdeplot(X_train['CityTier'], ax=ax1)\n",
    "sns.kdeplot(X_train['DurationOfPitch'], ax=ax1)\n",
    "sns.kdeplot(X_train['NumberOfPersonVisiting'], ax=ax1)\n",
    "\n",
    "# after scaling\n",
    "ax2.set_title('Centering + MaxAbsScaling')\n",
    "sns.kdeplot(X_train_scaled['CityTier'], ax=ax2)\n",
    "sns.kdeplot(X_train_scaled['DurationOfPitch'], ax=ax2)\n",
    "sns.kdeplot(X_train_scaled['NumberOfPersonVisiting'], ax=ax2)\n",
    "plt.show()"
   ]
  },
  {
   "cell_type": "markdown",
   "id": "d7135510",
   "metadata": {},
   "source": [
    "# Scaling to quantiles and median - RobustScaling\n",
    "In this procedure the median is removed from the observations and then they are scaled to the inter-quantile range (IQR). The IQR is the range between the 1st quartile (25th quantile) and the 3rd quartile (75th quantile).\n",
    "\n",
    "X_scaled = X - X_median / ( X.quantile(0.75) - X.quantile(0.25) )"
   ]
  },
  {
   "cell_type": "code",
   "execution_count": 110,
   "id": "d20bb214",
   "metadata": {},
   "outputs": [],
   "source": [
    "# the scaler - for robust scaling\n",
    "from sklearn.preprocessing import RobustScaler"
   ]
  },
  {
   "cell_type": "code",
   "execution_count": 111,
   "id": "f6292181",
   "metadata": {},
   "outputs": [
    {
     "data": {
      "text/plain": [
       "((3421, 13), (1467, 13))"
      ]
     },
     "execution_count": 111,
     "metadata": {},
     "output_type": "execute_result"
    }
   ],
   "source": [
    "# let's separate the data into training and testing set\n",
    "\n",
    "X_train, X_test, y_train, y_test = train_test_split(data[data_num].drop('med', axis=1),\n",
    "                                                    data[data_num]['med'],\n",
    "                                                    test_size=0.3,\n",
    "                                                    random_state=0)\n",
    "\n",
    "X_train.shape, X_test.shape"
   ]
  },
  {
   "cell_type": "code",
   "execution_count": 112,
   "id": "718aa9e3",
   "metadata": {},
   "outputs": [],
   "source": [
    "# set up the scaler\n",
    "scaler = RobustScaler()\n",
    "\n",
    "# fit the scaler to the train set, it will learn the parameters\n",
    "scaler.fit(X_train)\n",
    "\n",
    "# transform train and test sets\n",
    "X_train_scaled = scaler.transform(X_train)\n",
    "X_test_scaled = scaler.transform(X_test)"
   ]
  },
  {
   "cell_type": "code",
   "execution_count": 113,
   "id": "92c8de56",
   "metadata": {},
   "outputs": [
    {
     "data": {
      "text/plain": [
       "array([0.0000e+00, 3.6000e+01, 1.0000e+00, 1.3000e+01, 3.0000e+00,\n",
       "       4.0000e+00, 3.0000e+00, 3.0000e+00, 0.0000e+00, 3.0000e+00,\n",
       "       1.0000e+00, 1.0000e+00, 2.2347e+04])"
      ]
     },
     "execution_count": 113,
     "metadata": {},
     "output_type": "execute_result"
    }
   ],
   "source": [
    "# the scaler stores the median values of the features as learned from train set\n",
    "scaler.center_"
   ]
  },
  {
   "cell_type": "code",
   "execution_count": 114,
   "id": "be9e5bdd",
   "metadata": {},
   "outputs": [
    {
     "data": {
      "text/plain": [
       "array([1.000e+00, 1.300e+01, 2.000e+00, 1.000e+01, 1.000e+00, 1.000e+00,\n",
       "       1.000e+00, 2.000e+00, 1.000e+00, 2.000e+00, 1.000e+00, 1.000e+00,\n",
       "       4.969e+03])"
      ]
     },
     "execution_count": 114,
     "metadata": {},
     "output_type": "execute_result"
    }
   ],
   "source": [
    "# the scaler stores the IQR values of the features as learned from train set\n",
    "\n",
    "scaler.scale_"
   ]
  },
  {
   "cell_type": "code",
   "execution_count": 115,
   "id": "198ae98c",
   "metadata": {},
   "outputs": [],
   "source": [
    "# let's transform the returned NumPy arrays to dataframes\n",
    "\n",
    "X_train_scaled = pd.DataFrame(X_train_scaled, columns=X_train.columns)\n",
    "X_test_scaled = pd.DataFrame(X_test_scaled, columns=X_test.columns)"
   ]
  },
  {
   "cell_type": "code",
   "execution_count": 116,
   "id": "b50ab8a0",
   "metadata": {},
   "outputs": [
    {
     "data": {
      "image/png": "[encoded data removed]",
      "text/plain": [
       "<Figure size 864x360 with 2 Axes>"
      ]
     },
     "metadata": {
      "needs_background": "light"
     },
     "output_type": "display_data"
    }
   ],
   "source": [
    "# let's compare the variable distributions before and after scaling\n",
    "\n",
    "fig, (ax1, ax2) = plt.subplots(ncols=2, figsize=(12, 5))\n",
    "\n",
    "# before scaling\n",
    "ax1.set_title('Before Scaling')\n",
    "sns.kdeplot(X_train['CityTier'], ax=ax1)\n",
    "sns.kdeplot(X_train['DurationOfPitch'], ax=ax1)\n",
    "sns.kdeplot(X_train['NumberOfPersonVisiting'], ax=ax1)\n",
    "\n",
    "# after scaling\n",
    "ax2.set_title('After RobustScaling')\n",
    "sns.kdeplot(X_train_scaled['CityTier'], ax=ax2)\n",
    "sns.kdeplot(X_train_scaled['DurationOfPitch'], ax=ax2)\n",
    "sns.kdeplot(X_train_scaled['NumberOfPersonVisiting'], ax=ax2)\n",
    "plt.show()"
   ]
  },
  {
   "cell_type": "markdown",
   "id": "32e2f92b",
   "metadata": {},
   "source": [
    "# Scaling to vector unit length / unit norm\n",
    "Scaling to unit norm is achieved by dividing each feature vector by either the Manhattan distance (l1 norm) or the Euclidean distance of the vector (l2 norm):\n",
    "\n",
    "X_scaled_l1 = X / l1(X)\n",
    "\n",
    "X_scaled_l2 = X / l2(X)\n",
    "\n",
    "The Manhattan distance is given by the sum of the absolute components of the vector:\n",
    "\n",
    "l1(X) = |x1| + |x2| + ... + |xn|\n",
    "\n",
    "Whereas the Euclidean distance is given by the square root of the square sum of the component of the vector:\n",
    "\n",
    "l2(X) = sqr( x1^2 + x2^2 + ... + xn^2 )\n",
    "\n",
    "In the above example, x1 is variable 1, x2 variable 2, and xn variable n, and X is the data for 1 observation across variables (a row in other words).\n",
    "\n",
    "Scaling to unit norm, examples\n",
    "For example, if our data has 1 observations (1 row) and 3 variables:\n",
    "\n",
    "number of pets\n",
    "number of children\n",
    "age\n",
    "The values for each variable for that single observation are 10, 15 and 20. Our vector X = [10, 15, 20]. Then:\n",
    "\n",
    "l1(X) = 10 + 15 + 20 = 45\n",
    "\n",
    "l2(X) = sqr( 10^2 + 15^2 + 20^2) = sqr( 100 + 225 + 400) = 26.9\n",
    "\n",
    "The euclidean distance is always smaller than the Manhattan distance.\n",
    "\n",
    "The normalized vector values are therefore:\n",
    "\n",
    "X_scaled_l1 = [ 10/45, 15/45, 20/45 ] = [0.22, 0.33, 0.44]\n",
    "\n",
    "X_scaled_l2 = [10/26.9, 15/26.9, 20/26.9 ] = [0.37, 0.55, 0.74]"
   ]
  },
  {
   "cell_type": "markdown",
   "id": "08d1c8f3",
   "metadata": {},
   "source": []
  },
  {
   "cell_type": "code",
   "execution_count": 117,
   "id": "51690c1d",
   "metadata": {},
   "outputs": [],
   "source": [
    "# the scaler - for robust scaling\n",
    "from sklearn.preprocessing import Normalizer"
   ]
  },
  {
   "cell_type": "code",
   "execution_count": 118,
   "id": "d2e97d5c",
   "metadata": {},
   "outputs": [
    {
     "data": {
      "text/plain": [
       "((3421, 13), (1467, 13))"
      ]
     },
     "execution_count": 118,
     "metadata": {},
     "output_type": "execute_result"
    }
   ],
   "source": [
    "# let's separate the data into training and testing set\n",
    "\n",
    "X_train, X_test, y_train, y_test = train_test_split(data[data_num].drop('med', axis=1),\n",
    "                                                    data[data_num]['med'],\n",
    "                                                    test_size=0.3,\n",
    "                                                    random_state=0)\n",
    "\n",
    "X_train.shape, X_test.shape"
   ]
  },
  {
   "cell_type": "markdown",
   "id": "bcf10c43",
   "metadata": {},
   "source": [
    "Scaling to l1"
   ]
  },
  {
   "cell_type": "code",
   "execution_count": 119,
   "id": "c40b73b9",
   "metadata": {},
   "outputs": [],
   "source": [
    "# set up the scaler\n",
    "scaler = Normalizer(norm='l1') # for euclidean distance we change to norm='l2' \n",
    "\n",
    "# fit the scaler, this procedure does NOTHING\n",
    "scaler.fit(X_train)\n",
    "\n",
    "# transform train and test sets\n",
    "X_train_scaled = scaler.transform(X_train)\n",
    "X_test_scaled = scaler.transform(X_test)"
   ]
  },
  {
   "cell_type": "code",
   "execution_count": 120,
   "id": "0b813108",
   "metadata": {},
   "outputs": [
    {
     "data": {
      "application/javascript": [
       "\n",
       "        if (window._pyforest_update_imports_cell) { window._pyforest_update_imports_cell('import numpy as np'); }\n",
       "    "
      ],
      "text/plain": [
       "<IPython.core.display.Javascript object>"
      ]
     },
     "metadata": {},
     "output_type": "display_data"
    },
    {
     "data": {
      "application/javascript": [
       "\n",
       "        if (window._pyforest_update_imports_cell) { window._pyforest_update_imports_cell('import numpy as np'); }\n",
       "    "
      ],
      "text/plain": [
       "<IPython.core.display.Javascript object>"
      ]
     },
     "metadata": {},
     "output_type": "display_data"
    },
    {
     "data": {
      "text/plain": [
       "array([17898., 20318., 22408., ..., 18749., 28229., 21124.])"
      ]
     },
     "execution_count": 120,
     "metadata": {},
     "output_type": "execute_result"
    }
   ],
   "source": [
    "# let's calculate the norm for each observation (feature vector)\n",
    "# original data\n",
    "\n",
    "np.round( np.linalg.norm(X_train, ord=1, axis=1), 1)"
   ]
  },
  {
   "cell_type": "code",
   "execution_count": 121,
   "id": "287903e8",
   "metadata": {},
   "outputs": [
    {
     "data": {
      "application/javascript": [
       "\n",
       "        if (window._pyforest_update_imports_cell) { window._pyforest_update_imports_cell('import numpy as np'); }\n",
       "    "
      ],
      "text/plain": [
       "<IPython.core.display.Javascript object>"
      ]
     },
     "metadata": {},
     "output_type": "display_data"
    },
    {
     "data": {
      "application/javascript": [
       "\n",
       "        if (window._pyforest_update_imports_cell) { window._pyforest_update_imports_cell('import numpy as np'); }\n",
       "    "
      ],
      "text/plain": [
       "<IPython.core.display.Javascript object>"
      ]
     },
     "metadata": {},
     "output_type": "display_data"
    },
    {
     "data": {
      "text/plain": [
       "array([1., 1., 1., ..., 1., 1., 1.])"
      ]
     },
     "execution_count": 121,
     "metadata": {},
     "output_type": "execute_result"
    }
   ],
   "source": [
    "# let's calculate the norm for each observation (feature vector)\n",
    "# scaled data\n",
    "\n",
    "np.round( np.linalg.norm(X_train_scaled, ord=1, axis=1), 1)"
   ]
  },
  {
   "cell_type": "markdown",
   "id": "639d1225",
   "metadata": {},
   "source": [
    "Scaling to l2"
   ]
  },
  {
   "cell_type": "code",
   "execution_count": 122,
   "id": "efea2178",
   "metadata": {},
   "outputs": [],
   "source": [
    "# set up the scaler\n",
    "scaler = Normalizer(norm='l2')\n",
    "\n",
    "# fit the scaler, this procedure does NOTHING\n",
    "scaler.fit(X_train)\n",
    "\n",
    "# transform train and test sets\n",
    "X_train_scaled = scaler.transform(X_train)\n",
    "X_test_scaled = scaler.transform(X_test)"
   ]
  },
  {
   "cell_type": "code",
   "execution_count": null,
   "id": "8bc61537",
   "metadata": {},
   "outputs": [],
   "source": []
  }
 ],
 "metadata": {
  "kernelspec": {
   "display_name": "Python 3 (ipykernel)",
   "language": "python",
   "name": "python3"
  },
  "language_info": {
   "codemirror_mode": {
    "name": "ipython",
    "version": 3
   },
   "file_extension": ".py",
   "mimetype": "text/x-python",
   "name": "python",
   "nbconvert_exporter": "python",
   "pygments_lexer": "ipython3",
   "version": "3.9.7"
  }
 },
 "nbformat": 4,
 "nbformat_minor": 5
}
