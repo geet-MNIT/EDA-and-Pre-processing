{
 "cells": [
  {
   "cell_type": "code",
   "execution_count": 1,
   "id": "3602133c",
   "metadata": {},
   "outputs": [],
   "source": [
    "import pandas as pd\n",
    "import matplotlib.pyplot as plt\n",
    "import seaborn as sns"
   ]
  },
  {
   "cell_type": "code",
   "execution_count": 85,
   "id": "be9a858d",
   "metadata": {},
   "outputs": [
    {
     "data": {
      "text/html": [
       "<div>\n",
       "<style scoped>\n",
       "    .dataframe tbody tr th:only-of-type {\n",
       "        vertical-align: middle;\n",
       "    }\n",
       "\n",
       "    .dataframe tbody tr th {\n",
       "        vertical-align: top;\n",
       "    }\n",
       "\n",
       "    .dataframe thead th {\n",
       "        text-align: right;\n",
       "    }\n",
       "</style>\n",
       "<table border=\"1\" class=\"dataframe\">\n",
       "  <thead>\n",
       "    <tr style=\"text-align: right;\">\n",
       "      <th></th>\n",
       "      <th>city</th>\n",
       "      <th>city_development_index</th>\n",
       "      <th>experience</th>\n",
       "      <th>company_size</th>\n",
       "      <th>last_new_job</th>\n",
       "      <th>training_hours</th>\n",
       "      <th>target</th>\n",
       "      <th>gender Female</th>\n",
       "      <th>gender Male</th>\n",
       "      <th>gender Other</th>\n",
       "      <th>...</th>\n",
       "      <th>major_discipline Humanities</th>\n",
       "      <th>major_discipline No Major</th>\n",
       "      <th>major_discipline Other</th>\n",
       "      <th>major_discipline STEM</th>\n",
       "      <th>company_type Early Stage Startup</th>\n",
       "      <th>company_type Funded Startup</th>\n",
       "      <th>company_type NGO</th>\n",
       "      <th>company_type Other</th>\n",
       "      <th>company_type Public Sector</th>\n",
       "      <th>company_type Pvt Ltd</th>\n",
       "    </tr>\n",
       "  </thead>\n",
       "  <tbody>\n",
       "    <tr>\n",
       "      <th>0</th>\n",
       "      <td>103</td>\n",
       "      <td>-0.044130</td>\n",
       "      <td>10.271582</td>\n",
       "      <td>2</td>\n",
       "      <td>0.693147</td>\n",
       "      <td>4.821240</td>\n",
       "      <td>1.0</td>\n",
       "      <td>0</td>\n",
       "      <td>1</td>\n",
       "      <td>0</td>\n",
       "      <td>...</td>\n",
       "      <td>0</td>\n",
       "      <td>0</td>\n",
       "      <td>0</td>\n",
       "      <td>1</td>\n",
       "      <td>0</td>\n",
       "      <td>0</td>\n",
       "      <td>0</td>\n",
       "      <td>0</td>\n",
       "      <td>0</td>\n",
       "      <td>1</td>\n",
       "    </tr>\n",
       "    <tr>\n",
       "      <th>1</th>\n",
       "      <td>40</td>\n",
       "      <td>-0.062109</td>\n",
       "      <td>8.340147</td>\n",
       "      <td>1</td>\n",
       "      <td>1.791759</td>\n",
       "      <td>5.305129</td>\n",
       "      <td>0.0</td>\n",
       "      <td>0</td>\n",
       "      <td>1</td>\n",
       "      <td>0</td>\n",
       "      <td>...</td>\n",
       "      <td>0</td>\n",
       "      <td>0</td>\n",
       "      <td>0</td>\n",
       "      <td>1</td>\n",
       "      <td>0</td>\n",
       "      <td>0</td>\n",
       "      <td>0</td>\n",
       "      <td>0</td>\n",
       "      <td>0</td>\n",
       "      <td>1</td>\n",
       "    </tr>\n",
       "    <tr>\n",
       "      <th>2</th>\n",
       "      <td>21</td>\n",
       "      <td>-0.065823</td>\n",
       "      <td>4.060962</td>\n",
       "      <td>2</td>\n",
       "      <td>0.000000</td>\n",
       "      <td>6.411223</td>\n",
       "      <td>0.0</td>\n",
       "      <td>0</td>\n",
       "      <td>0</td>\n",
       "      <td>0</td>\n",
       "      <td>...</td>\n",
       "      <td>0</td>\n",
       "      <td>0</td>\n",
       "      <td>0</td>\n",
       "      <td>1</td>\n",
       "      <td>0</td>\n",
       "      <td>0</td>\n",
       "      <td>0</td>\n",
       "      <td>0</td>\n",
       "      <td>0</td>\n",
       "      <td>1</td>\n",
       "    </tr>\n",
       "    <tr>\n",
       "      <th>3</th>\n",
       "      <td>115</td>\n",
       "      <td>-0.061446</td>\n",
       "      <td>-1.017357</td>\n",
       "      <td>2</td>\n",
       "      <td>0.000000</td>\n",
       "      <td>5.494240</td>\n",
       "      <td>1.0</td>\n",
       "      <td>0</td>\n",
       "      <td>0</td>\n",
       "      <td>0</td>\n",
       "      <td>...</td>\n",
       "      <td>0</td>\n",
       "      <td>0</td>\n",
       "      <td>0</td>\n",
       "      <td>0</td>\n",
       "      <td>0</td>\n",
       "      <td>0</td>\n",
       "      <td>0</td>\n",
       "      <td>0</td>\n",
       "      <td>0</td>\n",
       "      <td>1</td>\n",
       "    </tr>\n",
       "    <tr>\n",
       "      <th>4</th>\n",
       "      <td>162</td>\n",
       "      <td>-0.062518</td>\n",
       "      <td>10.271582</td>\n",
       "      <td>1</td>\n",
       "      <td>1.609438</td>\n",
       "      <td>2.455184</td>\n",
       "      <td>0.0</td>\n",
       "      <td>0</td>\n",
       "      <td>1</td>\n",
       "      <td>0</td>\n",
       "      <td>...</td>\n",
       "      <td>0</td>\n",
       "      <td>0</td>\n",
       "      <td>0</td>\n",
       "      <td>1</td>\n",
       "      <td>0</td>\n",
       "      <td>1</td>\n",
       "      <td>0</td>\n",
       "      <td>0</td>\n",
       "      <td>0</td>\n",
       "      <td>0</td>\n",
       "    </tr>\n",
       "    <tr>\n",
       "      <th>...</th>\n",
       "      <td>...</td>\n",
       "      <td>...</td>\n",
       "      <td>...</td>\n",
       "      <td>...</td>\n",
       "      <td>...</td>\n",
       "      <td>...</td>\n",
       "      <td>...</td>\n",
       "      <td>...</td>\n",
       "      <td>...</td>\n",
       "      <td>...</td>\n",
       "      <td>...</td>\n",
       "      <td>...</td>\n",
       "      <td>...</td>\n",
       "      <td>...</td>\n",
       "      <td>...</td>\n",
       "      <td>...</td>\n",
       "      <td>...</td>\n",
       "      <td>...</td>\n",
       "      <td>...</td>\n",
       "      <td>...</td>\n",
       "      <td>...</td>\n",
       "    </tr>\n",
       "    <tr>\n",
       "      <th>19153</th>\n",
       "      <td>173</td>\n",
       "      <td>-0.052972</td>\n",
       "      <td>7.987119</td>\n",
       "      <td>2</td>\n",
       "      <td>0.693147</td>\n",
       "      <td>5.098402</td>\n",
       "      <td>1.0</td>\n",
       "      <td>0</td>\n",
       "      <td>1</td>\n",
       "      <td>0</td>\n",
       "      <td>...</td>\n",
       "      <td>1</td>\n",
       "      <td>0</td>\n",
       "      <td>0</td>\n",
       "      <td>0</td>\n",
       "      <td>0</td>\n",
       "      <td>0</td>\n",
       "      <td>0</td>\n",
       "      <td>0</td>\n",
       "      <td>0</td>\n",
       "      <td>1</td>\n",
       "    </tr>\n",
       "    <tr>\n",
       "      <th>19154</th>\n",
       "      <td>103</td>\n",
       "      <td>-0.044130</td>\n",
       "      <td>7.987119</td>\n",
       "      <td>2</td>\n",
       "      <td>1.609438</td>\n",
       "      <td>5.494240</td>\n",
       "      <td>1.0</td>\n",
       "      <td>0</td>\n",
       "      <td>1</td>\n",
       "      <td>0</td>\n",
       "      <td>...</td>\n",
       "      <td>0</td>\n",
       "      <td>0</td>\n",
       "      <td>0</td>\n",
       "      <td>1</td>\n",
       "      <td>0</td>\n",
       "      <td>0</td>\n",
       "      <td>0</td>\n",
       "      <td>0</td>\n",
       "      <td>0</td>\n",
       "      <td>1</td>\n",
       "    </tr>\n",
       "    <tr>\n",
       "      <th>19155</th>\n",
       "      <td>103</td>\n",
       "      <td>-0.044130</td>\n",
       "      <td>10.271582</td>\n",
       "      <td>1</td>\n",
       "      <td>1.609438</td>\n",
       "      <td>5.183437</td>\n",
       "      <td>0.0</td>\n",
       "      <td>0</td>\n",
       "      <td>1</td>\n",
       "      <td>0</td>\n",
       "      <td>...</td>\n",
       "      <td>0</td>\n",
       "      <td>0</td>\n",
       "      <td>0</td>\n",
       "      <td>1</td>\n",
       "      <td>0</td>\n",
       "      <td>0</td>\n",
       "      <td>0</td>\n",
       "      <td>0</td>\n",
       "      <td>0</td>\n",
       "      <td>1</td>\n",
       "    </tr>\n",
       "    <tr>\n",
       "      <th>19156</th>\n",
       "      <td>65</td>\n",
       "      <td>-0.060684</td>\n",
       "      <td>-1.017357</td>\n",
       "      <td>1</td>\n",
       "      <td>1.098612</td>\n",
       "      <td>6.732999</td>\n",
       "      <td>0.0</td>\n",
       "      <td>0</td>\n",
       "      <td>1</td>\n",
       "      <td>0</td>\n",
       "      <td>...</td>\n",
       "      <td>0</td>\n",
       "      <td>0</td>\n",
       "      <td>0</td>\n",
       "      <td>1</td>\n",
       "      <td>0</td>\n",
       "      <td>0</td>\n",
       "      <td>0</td>\n",
       "      <td>0</td>\n",
       "      <td>0</td>\n",
       "      <td>1</td>\n",
       "    </tr>\n",
       "    <tr>\n",
       "      <th>19157</th>\n",
       "      <td>67</td>\n",
       "      <td>-0.056089</td>\n",
       "      <td>2.042726</td>\n",
       "      <td>2</td>\n",
       "      <td>0.693147</td>\n",
       "      <td>7.309279</td>\n",
       "      <td>0.0</td>\n",
       "      <td>0</td>\n",
       "      <td>0</td>\n",
       "      <td>0</td>\n",
       "      <td>...</td>\n",
       "      <td>0</td>\n",
       "      <td>0</td>\n",
       "      <td>0</td>\n",
       "      <td>1</td>\n",
       "      <td>0</td>\n",
       "      <td>0</td>\n",
       "      <td>0</td>\n",
       "      <td>0</td>\n",
       "      <td>0</td>\n",
       "      <td>1</td>\n",
       "    </tr>\n",
       "  </tbody>\n",
       "</table>\n",
       "<p>19158 rows × 33 columns</p>\n",
       "</div>"
      ],
      "text/plain": [
       "       city  city_development_index  experience  company_size  last_new_job  \\\n",
       "0       103               -0.044130   10.271582             2      0.693147   \n",
       "1        40               -0.062109    8.340147             1      1.791759   \n",
       "2        21               -0.065823    4.060962             2      0.000000   \n",
       "3       115               -0.061446   -1.017357             2      0.000000   \n",
       "4       162               -0.062518   10.271582             1      1.609438   \n",
       "...     ...                     ...         ...           ...           ...   \n",
       "19153   173               -0.052972    7.987119             2      0.693147   \n",
       "19154   103               -0.044130    7.987119             2      1.609438   \n",
       "19155   103               -0.044130   10.271582             1      1.609438   \n",
       "19156    65               -0.060684   -1.017357             1      1.098612   \n",
       "19157    67               -0.056089    2.042726             2      0.693147   \n",
       "\n",
       "       training_hours  target  gender Female  gender Male  gender Other  ...  \\\n",
       "0            4.821240     1.0              0            1             0  ...   \n",
       "1            5.305129     0.0              0            1             0  ...   \n",
       "2            6.411223     0.0              0            0             0  ...   \n",
       "3            5.494240     1.0              0            0             0  ...   \n",
       "4            2.455184     0.0              0            1             0  ...   \n",
       "...               ...     ...            ...          ...           ...  ...   \n",
       "19153        5.098402     1.0              0            1             0  ...   \n",
       "19154        5.494240     1.0              0            1             0  ...   \n",
       "19155        5.183437     0.0              0            1             0  ...   \n",
       "19156        6.732999     0.0              0            1             0  ...   \n",
       "19157        7.309279     0.0              0            0             0  ...   \n",
       "\n",
       "       major_discipline Humanities  major_discipline No Major  \\\n",
       "0                                0                          0   \n",
       "1                                0                          0   \n",
       "2                                0                          0   \n",
       "3                                0                          0   \n",
       "4                                0                          0   \n",
       "...                            ...                        ...   \n",
       "19153                            1                          0   \n",
       "19154                            0                          0   \n",
       "19155                            0                          0   \n",
       "19156                            0                          0   \n",
       "19157                            0                          0   \n",
       "\n",
       "       major_discipline Other  major_discipline STEM  \\\n",
       "0                           0                      1   \n",
       "1                           0                      1   \n",
       "2                           0                      1   \n",
       "3                           0                      0   \n",
       "4                           0                      1   \n",
       "...                       ...                    ...   \n",
       "19153                       0                      0   \n",
       "19154                       0                      1   \n",
       "19155                       0                      1   \n",
       "19156                       0                      1   \n",
       "19157                       0                      1   \n",
       "\n",
       "       company_type Early Stage Startup  company_type Funded Startup  \\\n",
       "0                                     0                            0   \n",
       "1                                     0                            0   \n",
       "2                                     0                            0   \n",
       "3                                     0                            0   \n",
       "4                                     0                            1   \n",
       "...                                 ...                          ...   \n",
       "19153                                 0                            0   \n",
       "19154                                 0                            0   \n",
       "19155                                 0                            0   \n",
       "19156                                 0                            0   \n",
       "19157                                 0                            0   \n",
       "\n",
       "       company_type NGO  company_type Other  company_type Public Sector  \\\n",
       "0                     0                   0                           0   \n",
       "1                     0                   0                           0   \n",
       "2                     0                   0                           0   \n",
       "3                     0                   0                           0   \n",
       "4                     0                   0                           0   \n",
       "...                 ...                 ...                         ...   \n",
       "19153                 0                   0                           0   \n",
       "19154                 0                   0                           0   \n",
       "19155                 0                   0                           0   \n",
       "19156                 0                   0                           0   \n",
       "19157                 0                   0                           0   \n",
       "\n",
       "       company_type Pvt Ltd  \n",
       "0                         1  \n",
       "1                         1  \n",
       "2                         1  \n",
       "3                         1  \n",
       "4                         0  \n",
       "...                     ...  \n",
       "19153                     1  \n",
       "19154                     1  \n",
       "19155                     1  \n",
       "19156                     1  \n",
       "19157                     1  \n",
       "\n",
       "[19158 rows x 33 columns]"
      ]
     },
     "execution_count": 85,
     "metadata": {},
     "output_type": "execute_result"
    }
   ],
   "source": [
    "##read the file\n",
    "data=pd.read_csv(\"D:/INEURON_DATA/Dataset/data0/hr_preprocessed.csv\")\n",
    "data"
   ]
  },
  {
   "cell_type": "code",
   "execution_count": 86,
   "id": "fd21db47",
   "metadata": {},
   "outputs": [],
   "source": [
    "# make a list with the features we want to engineer\n",
    "\n",
    "features = ['experience','company_size','last_new_job','training_hours']"
   ]
  },
  {
   "cell_type": "code",
   "execution_count": 87,
   "id": "c0ac3ec9",
   "metadata": {},
   "outputs": [
    {
     "data": {
      "text/html": [
       "<div>\n",
       "<style scoped>\n",
       "    .dataframe tbody tr th:only-of-type {\n",
       "        vertical-align: middle;\n",
       "    }\n",
       "\n",
       "    .dataframe tbody tr th {\n",
       "        vertical-align: top;\n",
       "    }\n",
       "\n",
       "    .dataframe thead th {\n",
       "        text-align: right;\n",
       "    }\n",
       "</style>\n",
       "<table border=\"1\" class=\"dataframe\">\n",
       "  <thead>\n",
       "    <tr style=\"text-align: right;\">\n",
       "      <th></th>\n",
       "      <th>experience</th>\n",
       "      <th>company_size</th>\n",
       "      <th>last_new_job</th>\n",
       "      <th>training_hours</th>\n",
       "    </tr>\n",
       "  </thead>\n",
       "  <tbody>\n",
       "    <tr>\n",
       "      <th>0</th>\n",
       "      <td>10.271582</td>\n",
       "      <td>2</td>\n",
       "      <td>0.693147</td>\n",
       "      <td>4.821240</td>\n",
       "    </tr>\n",
       "    <tr>\n",
       "      <th>1</th>\n",
       "      <td>8.340147</td>\n",
       "      <td>1</td>\n",
       "      <td>1.791759</td>\n",
       "      <td>5.305129</td>\n",
       "    </tr>\n",
       "    <tr>\n",
       "      <th>2</th>\n",
       "      <td>4.060962</td>\n",
       "      <td>2</td>\n",
       "      <td>0.000000</td>\n",
       "      <td>6.411223</td>\n",
       "    </tr>\n",
       "    <tr>\n",
       "      <th>3</th>\n",
       "      <td>-1.017357</td>\n",
       "      <td>2</td>\n",
       "      <td>0.000000</td>\n",
       "      <td>5.494240</td>\n",
       "    </tr>\n",
       "    <tr>\n",
       "      <th>4</th>\n",
       "      <td>10.271582</td>\n",
       "      <td>1</td>\n",
       "      <td>1.609438</td>\n",
       "      <td>2.455184</td>\n",
       "    </tr>\n",
       "  </tbody>\n",
       "</table>\n",
       "</div>"
      ],
      "text/plain": [
       "   experience  company_size  last_new_job  training_hours\n",
       "0   10.271582             2      0.693147        4.821240\n",
       "1    8.340147             1      1.791759        5.305129\n",
       "2    4.060962             2      0.000000        6.411223\n",
       "3   -1.017357             2      0.000000        5.494240\n",
       "4   10.271582             1      1.609438        2.455184"
      ]
     },
     "execution_count": 87,
     "metadata": {},
     "output_type": "execute_result"
    }
   ],
   "source": [
    "data[features].head()"
   ]
  },
  {
   "cell_type": "code",
   "execution_count": 88,
   "id": "7b69e9f9",
   "metadata": {},
   "outputs": [
    {
     "data": {
      "image/png": "[encoded data removed]",
      "text/plain": [
       "<Figure size 432x288 with 1 Axes>"
      ]
     },
     "metadata": {
      "needs_background": "light"
     },
     "output_type": "display_data"
    },
    {
     "data": {
      "image/png": "[encoded data removed]",
      "text/plain": [
       "<Figure size 432x288 with 1 Axes>"
      ]
     },
     "metadata": {
      "needs_background": "light"
     },
     "output_type": "display_data"
    },
    {
     "data": {
      "image/png": "[encoded data removed]",
      "text/plain": [
       "<Figure size 432x288 with 1 Axes>"
      ]
     },
     "metadata": {
      "needs_background": "light"
     },
     "output_type": "display_data"
    },
    {
     "data": {
      "image/png": "[encoded data removed]",
      "text/plain": [
       "<Figure size 432x288 with 1 Axes>"
      ]
     },
     "metadata": {
      "needs_background": "light"
     },
     "output_type": "display_data"
    }
   ],
   "source": [
    "# make violin plots with the distribution of each feature\n",
    "for f in features:\n",
    "    sns.violinplot(x=\"target\", y=f, data=data)\n",
    "    plt.title(f)\n",
    "    plt.show()"
   ]
  },
  {
   "cell_type": "markdown",
   "id": "4830db46",
   "metadata": {},
   "source": [
    "# Addition"
   ]
  },
  {
   "cell_type": "code",
   "execution_count": 89,
   "id": "f6f64af7",
   "metadata": {},
   "outputs": [
    {
     "data": {
      "text/plain": [
       "0    17.785968\n",
       "1    16.437035\n",
       "2    12.472185\n",
       "3     6.476883\n",
       "4    15.336203\n",
       "Name: added_features, dtype: float64"
      ]
     },
     "execution_count": 89,
     "metadata": {},
     "output_type": "execute_result"
    }
   ],
   "source": [
    "# add the features\n",
    "\n",
    "data['added_features'] = data[features].sum(axis=1)\n",
    "\n",
    "data['added_features'].head()"
   ]
  },
  {
   "cell_type": "code",
   "execution_count": 90,
   "id": "59393536",
   "metadata": {},
   "outputs": [
    {
     "data": {
      "text/plain": [
       "Text(0.5, 1.0, 'Added Features')"
      ]
     },
     "execution_count": 90,
     "metadata": {},
     "output_type": "execute_result"
    },
    {
     "data": {
      "image/png": "[encoded data removed]",
      "text/plain": [
       "<Figure size 432x288 with 1 Axes>"
      ]
     },
     "metadata": {
      "needs_background": "light"
     },
     "output_type": "display_data"
    }
   ],
   "source": [
    "# violin plot with added features\n",
    "\n",
    "sns.violinplot(x=\"target\", y=\"added_features\", data=data)\n",
    "\n",
    "plt.title('Added Features')"
   ]
  },
  {
   "cell_type": "markdown",
   "id": "6d7e8d2f",
   "metadata": {},
   "source": [
    "# Product"
   ]
  },
  {
   "cell_type": "code",
   "execution_count": 91,
   "id": "ba148b98",
   "metadata": {},
   "outputs": [
    {
     "data": {
      "text/plain": [
       "0    68.651732\n",
       "1    79.277392\n",
       "2     0.000000\n",
       "3    -0.000000\n",
       "4    40.587801\n",
       "Name: prod_features, dtype: float64"
      ]
     },
     "execution_count": 91,
     "metadata": {},
     "output_type": "execute_result"
    }
   ],
   "source": [
    "# multiply the features\n",
    "\n",
    "data['prod_features'] = data[features].prod(axis=1)\n",
    "\n",
    "data['prod_features'].head()"
   ]
  },
  {
   "cell_type": "code",
   "execution_count": 92,
   "id": "e84026b5",
   "metadata": {},
   "outputs": [
    {
     "data": {
      "text/plain": [
       "Text(0.5, 1.0, 'Product of Features')"
      ]
     },
     "execution_count": 92,
     "metadata": {},
     "output_type": "execute_result"
    },
    {
     "data": {
      "image/png": "[encoded data removed]",
      "text/plain": [
       "<Figure size 432x288 with 1 Axes>"
      ]
     },
     "metadata": {
      "needs_background": "light"
     },
     "output_type": "display_data"
    }
   ],
   "source": [
    "# violin plot with added features\n",
    "\n",
    "sns.violinplot(x=\"target\", y=\"prod_features\", data=data)\n",
    "\n",
    "plt.title('Product of Features')"
   ]
  },
  {
   "cell_type": "markdown",
   "id": "d9d68748",
   "metadata": {},
   "source": [
    "# Average"
   ]
  },
  {
   "cell_type": "code",
   "execution_count": 93,
   "id": "09543ac1",
   "metadata": {},
   "outputs": [
    {
     "data": {
      "text/plain": [
       "0    4.446492\n",
       "1    4.109259\n",
       "2    3.118046\n",
       "3    1.619221\n",
       "4    3.834051\n",
       "Name: mean_features, dtype: float64"
      ]
     },
     "execution_count": 93,
     "metadata": {},
     "output_type": "execute_result"
    }
   ],
   "source": [
    "# mean of features\n",
    "\n",
    "data['mean_features'] = data[features].mean(axis=1)\n",
    "\n",
    "data['mean_features'].head()"
   ]
  },
  {
   "cell_type": "code",
   "execution_count": 94,
   "id": "05f152a8",
   "metadata": {},
   "outputs": [
    {
     "data": {
      "text/plain": [
       "Text(0.5, 1.0, 'Mean of Features')"
      ]
     },
     "execution_count": 94,
     "metadata": {},
     "output_type": "execute_result"
    },
    {
     "data": {
      "image/png": "[encoded data removed]",
      "text/plain": [
       "<Figure size 432x288 with 1 Axes>"
      ]
     },
     "metadata": {
      "needs_background": "light"
     },
     "output_type": "display_data"
    }
   ],
   "source": [
    "# violin plot with added features\n",
    "\n",
    "sns.violinplot(x=\"target\", y=\"mean_features\", data=data)\n",
    "\n",
    "plt.title('Mean of Features')"
   ]
  },
  {
   "cell_type": "markdown",
   "id": "a6659012",
   "metadata": {},
   "source": [
    "# Standard deviation"
   ]
  },
  {
   "cell_type": "code",
   "execution_count": 95,
   "id": "e63176f3",
   "metadata": {},
   "outputs": [
    {
     "data": {
      "text/plain": [
       "0    4.248334\n",
       "1    3.384711\n",
       "2    2.751142\n",
       "3    2.871364\n",
       "4    4.332968\n",
       "Name: std_features, dtype: float64"
      ]
     },
     "execution_count": 95,
     "metadata": {},
     "output_type": "execute_result"
    }
   ],
   "source": [
    "# standard deviation of features\n",
    "\n",
    "data['std_features'] = data[features].std(axis=1)\n",
    "\n",
    "data['std_features'].head()"
   ]
  },
  {
   "cell_type": "code",
   "execution_count": 96,
   "id": "3a2200f0",
   "metadata": {},
   "outputs": [
    {
     "data": {
      "text/plain": [
       "Text(0.5, 1.0, 'Standard Deviation of Features')"
      ]
     },
     "execution_count": 96,
     "metadata": {},
     "output_type": "execute_result"
    },
    {
     "data": {
      "image/png": "[encoded data removed]",
      "text/plain": [
       "<Figure size 432x288 with 1 Axes>"
      ]
     },
     "metadata": {
      "needs_background": "light"
     },
     "output_type": "display_data"
    }
   ],
   "source": [
    "# violin plot with added features\n",
    "\n",
    "sns.violinplot(x=\"target\", y=\"std_features\", data=data)\n",
    "\n",
    "plt.title('Standard Deviation of Features')"
   ]
  },
  {
   "cell_type": "markdown",
   "id": "a34ed588",
   "metadata": {},
   "source": [
    "# Maximum"
   ]
  },
  {
   "cell_type": "code",
   "execution_count": 97,
   "id": "4edb2ff4",
   "metadata": {},
   "outputs": [
    {
     "data": {
      "text/plain": [
       "0    10.271582\n",
       "1     8.340147\n",
       "2     6.411223\n",
       "3     5.494240\n",
       "4    10.271582\n",
       "Name: max_features, dtype: float64"
      ]
     },
     "execution_count": 97,
     "metadata": {},
     "output_type": "execute_result"
    }
   ],
   "source": [
    "# maximum of features\n",
    "\n",
    "data['max_features'] = data[features].max(axis=1)\n",
    "\n",
    "data['max_features'].head()"
   ]
  },
  {
   "cell_type": "code",
   "execution_count": 98,
   "id": "eb9f2db2",
   "metadata": {},
   "outputs": [
    {
     "data": {
      "text/plain": [
       "Text(0.5, 1.0, 'Maximum of Features')"
      ]
     },
     "execution_count": 98,
     "metadata": {},
     "output_type": "execute_result"
    },
    {
     "data": {
      "image/png": "[encoded data removed]",
      "text/plain": [
       "<Figure size 432x288 with 1 Axes>"
      ]
     },
     "metadata": {
      "needs_background": "light"
     },
     "output_type": "display_data"
    }
   ],
   "source": [
    "# violin plot with max of features\n",
    "\n",
    "sns.violinplot(x=\"target\", y=\"max_features\", data=data)\n",
    "\n",
    "plt.title('Maximum of Features')"
   ]
  },
  {
   "cell_type": "markdown",
   "id": "d022e00b",
   "metadata": {},
   "source": [
    "# Minimum"
   ]
  },
  {
   "cell_type": "code",
   "execution_count": 99,
   "id": "c3acb441",
   "metadata": {},
   "outputs": [
    {
     "data": {
      "text/plain": [
       "0    0.693147\n",
       "1    1.000000\n",
       "2    0.000000\n",
       "3   -1.017357\n",
       "4    1.000000\n",
       "Name: min_features, dtype: float64"
      ]
     },
     "execution_count": 99,
     "metadata": {},
     "output_type": "execute_result"
    }
   ],
   "source": [
    "# minimum of the features\n",
    "\n",
    "data['min_features'] = data[features].min(axis=1)\n",
    "\n",
    "data['min_features'].head()"
   ]
  },
  {
   "cell_type": "code",
   "execution_count": 100,
   "id": "e93d21e3",
   "metadata": {},
   "outputs": [
    {
     "data": {
      "text/plain": [
       "Text(0.5, 1.0, 'Minimum of Features')"
      ]
     },
     "execution_count": 100,
     "metadata": {},
     "output_type": "execute_result"
    },
    {
     "data": {
      "image/png": "[encoded data removed]",
      "text/plain": [
       "<Figure size 432x288 with 1 Axes>"
      ]
     },
     "metadata": {
      "needs_background": "light"
     },
     "output_type": "display_data"
    }
   ],
   "source": [
    "# violin plot with max of features\n",
    "\n",
    "sns.violinplot(x=\"target\", y=\"min_features\", data=data)\n",
    "\n",
    "plt.title('Minimum of Features')"
   ]
  },
  {
   "cell_type": "code",
   "execution_count": 101,
   "id": "83f3a15b",
   "metadata": {},
   "outputs": [
    {
     "data": {
      "text/html": [
       "<div>\n",
       "<style scoped>\n",
       "    .dataframe tbody tr th:only-of-type {\n",
       "        vertical-align: middle;\n",
       "    }\n",
       "\n",
       "    .dataframe tbody tr th {\n",
       "        vertical-align: top;\n",
       "    }\n",
       "\n",
       "    .dataframe thead th {\n",
       "        text-align: right;\n",
       "    }\n",
       "</style>\n",
       "<table border=\"1\" class=\"dataframe\">\n",
       "  <thead>\n",
       "    <tr style=\"text-align: right;\">\n",
       "      <th></th>\n",
       "      <th>sum</th>\n",
       "      <th>prod</th>\n",
       "      <th>mean</th>\n",
       "      <th>std</th>\n",
       "      <th>max</th>\n",
       "      <th>min</th>\n",
       "    </tr>\n",
       "  </thead>\n",
       "  <tbody>\n",
       "    <tr>\n",
       "      <th>0</th>\n",
       "      <td>17.785968</td>\n",
       "      <td>68.651732</td>\n",
       "      <td>4.446492</td>\n",
       "      <td>4.248334</td>\n",
       "      <td>10.271582</td>\n",
       "      <td>0.693147</td>\n",
       "    </tr>\n",
       "    <tr>\n",
       "      <th>1</th>\n",
       "      <td>16.437035</td>\n",
       "      <td>79.277392</td>\n",
       "      <td>4.109259</td>\n",
       "      <td>3.384711</td>\n",
       "      <td>8.340147</td>\n",
       "      <td>1.000000</td>\n",
       "    </tr>\n",
       "    <tr>\n",
       "      <th>2</th>\n",
       "      <td>12.472185</td>\n",
       "      <td>0.000000</td>\n",
       "      <td>3.118046</td>\n",
       "      <td>2.751142</td>\n",
       "      <td>6.411223</td>\n",
       "      <td>0.000000</td>\n",
       "    </tr>\n",
       "    <tr>\n",
       "      <th>3</th>\n",
       "      <td>6.476883</td>\n",
       "      <td>-0.000000</td>\n",
       "      <td>1.619221</td>\n",
       "      <td>2.871364</td>\n",
       "      <td>5.494240</td>\n",
       "      <td>-1.017357</td>\n",
       "    </tr>\n",
       "    <tr>\n",
       "      <th>4</th>\n",
       "      <td>15.336203</td>\n",
       "      <td>40.587801</td>\n",
       "      <td>3.834051</td>\n",
       "      <td>4.332968</td>\n",
       "      <td>10.271582</td>\n",
       "      <td>1.000000</td>\n",
       "    </tr>\n",
       "  </tbody>\n",
       "</table>\n",
       "</div>"
      ],
      "text/plain": [
       "         sum       prod      mean       std        max       min\n",
       "0  17.785968  68.651732  4.446492  4.248334  10.271582  0.693147\n",
       "1  16.437035  79.277392  4.109259  3.384711   8.340147  1.000000\n",
       "2  12.472185   0.000000  3.118046  2.751142   6.411223  0.000000\n",
       "3   6.476883  -0.000000  1.619221  2.871364   5.494240 -1.017357\n",
       "4  15.336203  40.587801  3.834051  4.332968  10.271582  1.000000"
      ]
     },
     "execution_count": 101,
     "metadata": {},
     "output_type": "execute_result"
    }
   ],
   "source": [
    "# Perform all the operations in one line\n",
    "\n",
    "data_all = data[features].agg(['sum', 'prod','mean','std', 'max', 'min'], axis='columns')\n",
    "data_all.head()"
   ]
  },
  {
   "cell_type": "markdown",
   "id": "b1f8c9ca",
   "metadata": {},
   "source": [
    "# Difference between two features"
   ]
  },
  {
   "cell_type": "code",
   "execution_count": 104,
   "id": "fe4e9846",
   "metadata": {},
   "outputs": [
    {
     "data": {
      "text/plain": [
       "0    9.578434\n",
       "1    6.548387\n",
       "2    4.060962\n",
       "3   -1.017357\n",
       "4    8.662144\n",
       "Name: difference, dtype: float64"
      ]
     },
     "execution_count": 104,
     "metadata": {},
     "output_type": "execute_result"
    }
   ],
   "source": [
    "# Difference between 2 features - method 2\n",
    "\n",
    "data['difference'] = data['experience'] - (data['last_new_job'])\n",
    "\n",
    "data['difference'].head()"
   ]
  },
  {
   "cell_type": "code",
   "execution_count": 112,
   "id": "e7a79f50",
   "metadata": {},
   "outputs": [
    {
     "data": {
      "text/plain": [
       "Text(0.5, 1.0, 'Difference of the Features')"
      ]
     },
     "execution_count": 112,
     "metadata": {},
     "output_type": "execute_result"
    },
    {
     "data": {
      "image/png": "[encoded data removed]",
      "text/plain": [
       "<Figure size 432x288 with 1 Axes>"
      ]
     },
     "metadata": {
      "needs_background": "light"
     },
     "output_type": "display_data"
    }
   ],
   "source": [
    "# violin plot of the difference\n",
    "\n",
    "sns.violinplot(x=\"target\", y=\"difference\", data=data)\n",
    "plt.title('Difference of the Features')"
   ]
  },
  {
   "cell_type": "markdown",
   "id": "12679d5f",
   "metadata": {},
   "source": [
    "# Quotient of features"
   ]
  },
  {
   "cell_type": "code",
   "execution_count": 116,
   "id": "65036d75",
   "metadata": {},
   "outputs": [
    {
     "data": {
      "text/plain": [
       "0    4.82124\n",
       "1        inf\n",
       "2        inf\n",
       "3    5.49424\n",
       "4        inf\n",
       "Name: quotient, dtype: float64"
      ]
     },
     "execution_count": 116,
     "metadata": {},
     "output_type": "execute_result"
    }
   ],
   "source": [
    "# Quotient of features - method 1\n",
    "\n",
    "data['quotient'] = data['training_hours'].div(data['target'])\n",
    "\n",
    "data['quotient'].head()"
   ]
  },
  {
   "cell_type": "code",
   "execution_count": 117,
   "id": "0582503e",
   "metadata": {},
   "outputs": [
    {
     "data": {
      "text/plain": [
       "city                                           0\n",
       "city_development_index                         0\n",
       "experience                                     0\n",
       "company_size                                   0\n",
       "last_new_job                                   0\n",
       "training_hours                                 0\n",
       "target                                         0\n",
       "gender Female                                  0\n",
       "gender Male                                    0\n",
       "gender Other                                   0\n",
       "gender Undefined                               0\n",
       "relevent_experience Has relevent experience    0\n",
       "relevent_experience No relevent experience     0\n",
       "enrolled_university Full time course           0\n",
       "enrolled_university Part time course           0\n",
       "enrolled_university no_enrollment              0\n",
       "education_level Graduate                       0\n",
       "education_level High School                    0\n",
       "education_level Masters                        0\n",
       "education_level Phd                            0\n",
       "education_level Primary School                 0\n",
       "major_discipline Arts                          0\n",
       "major_discipline Business Degree               0\n",
       "major_discipline Humanities                    0\n",
       "major_discipline No Major                      0\n",
       "major_discipline Other                         0\n",
       "major_discipline STEM                          0\n",
       "company_type Early Stage Startup               0\n",
       "company_type Funded Startup                    0\n",
       "company_type NGO                               0\n",
       "company_type Other                             0\n",
       "company_type Public Sector                     0\n",
       "company_type Pvt Ltd                           0\n",
       "added_features                                 0\n",
       "prod_features                                  0\n",
       "mean_features                                  0\n",
       "std_features                                   0\n",
       "max_features                                   0\n",
       "min_features                                   0\n",
       "difference                                     0\n",
       "quotient                                       0\n",
       "dtype: int64"
      ]
     },
     "execution_count": 117,
     "metadata": {},
     "output_type": "execute_result"
    }
   ],
   "source": [
    "data.isnull().sum()"
   ]
  },
  {
   "cell_type": "code",
   "execution_count": 121,
   "id": "12ed7512",
   "metadata": {},
   "outputs": [
    {
     "data": {
      "text/plain": [
       "Text(0.5, 1.0, 'Quotient of Features')"
      ]
     },
     "execution_count": 121,
     "metadata": {},
     "output_type": "execute_result"
    },
    {
     "data": {
      "image/png": "[encoded data removed]",
      "text/plain": [
       "<Figure size 432x288 with 1 Axes>"
      ]
     },
     "metadata": {
      "needs_background": "light"
     },
     "output_type": "display_data"
    }
   ],
   "source": [
    "# violin plot with quotient\n",
    "\n",
    "sns.violinplot(x=\"target\", y=\"quotient\", data=data)\n",
    "plt.title('Quotient of Features')"
   ]
  },
  {
   "cell_type": "code",
   "execution_count": 123,
   "id": "f3e2caf5",
   "metadata": {},
   "outputs": [],
   "source": [
    "# features to aggregate\n",
    "worst_f = ['city','company_size','last_new_job','training_hours']"
   ]
  },
  {
   "cell_type": "markdown",
   "id": "ec48a879",
   "metadata": {},
   "source": [
    "# create new feature by sum of the worst features"
   ]
  },
  {
   "cell_type": "code",
   "execution_count": 124,
   "id": "13db793b",
   "metadata": {},
   "outputs": [
    {
     "data": {
      "text/plain": [
       "0    110.514387\n",
       "1     48.096888\n",
       "2     29.411223\n",
       "3    122.494240\n",
       "4    167.064622\n",
       "Name: worst, dtype: float64"
      ]
     },
     "execution_count": 124,
     "metadata": {},
     "output_type": "execute_result"
    }
   ],
   "source": [
    "# create new feature by sum of the worst features\n",
    "data['worst'] = data[worst_f].sum(axis=1)\n",
    "\n",
    "data['worst'].head()"
   ]
  },
  {
   "cell_type": "code",
   "execution_count": 125,
   "id": "5b6f0244",
   "metadata": {},
   "outputs": [
    {
     "data": {
      "text/html": [
       "<div>\n",
       "<style scoped>\n",
       "    .dataframe tbody tr th:only-of-type {\n",
       "        vertical-align: middle;\n",
       "    }\n",
       "\n",
       "    .dataframe tbody tr th {\n",
       "        vertical-align: top;\n",
       "    }\n",
       "\n",
       "    .dataframe thead th {\n",
       "        text-align: right;\n",
       "    }\n",
       "</style>\n",
       "<table border=\"1\" class=\"dataframe\">\n",
       "  <thead>\n",
       "    <tr style=\"text-align: right;\">\n",
       "      <th></th>\n",
       "      <th>experience</th>\n",
       "      <th>company_size</th>\n",
       "      <th>last_new_job</th>\n",
       "      <th>training_hours</th>\n",
       "      <th>worst</th>\n",
       "    </tr>\n",
       "  </thead>\n",
       "  <tbody>\n",
       "    <tr>\n",
       "      <th>0</th>\n",
       "      <td>10.271582</td>\n",
       "      <td>2</td>\n",
       "      <td>0.693147</td>\n",
       "      <td>4.821240</td>\n",
       "      <td>110.514387</td>\n",
       "    </tr>\n",
       "    <tr>\n",
       "      <th>1</th>\n",
       "      <td>8.340147</td>\n",
       "      <td>1</td>\n",
       "      <td>1.791759</td>\n",
       "      <td>5.305129</td>\n",
       "      <td>48.096888</td>\n",
       "    </tr>\n",
       "    <tr>\n",
       "      <th>2</th>\n",
       "      <td>4.060962</td>\n",
       "      <td>2</td>\n",
       "      <td>0.000000</td>\n",
       "      <td>6.411223</td>\n",
       "      <td>29.411223</td>\n",
       "    </tr>\n",
       "    <tr>\n",
       "      <th>3</th>\n",
       "      <td>-1.017357</td>\n",
       "      <td>2</td>\n",
       "      <td>0.000000</td>\n",
       "      <td>5.494240</td>\n",
       "      <td>122.494240</td>\n",
       "    </tr>\n",
       "    <tr>\n",
       "      <th>4</th>\n",
       "      <td>10.271582</td>\n",
       "      <td>1</td>\n",
       "      <td>1.609438</td>\n",
       "      <td>2.455184</td>\n",
       "      <td>167.064622</td>\n",
       "    </tr>\n",
       "  </tbody>\n",
       "</table>\n",
       "</div>"
      ],
      "text/plain": [
       "   experience  company_size  last_new_job  training_hours       worst\n",
       "0   10.271582             2      0.693147        4.821240  110.514387\n",
       "1    8.340147             1      1.791759        5.305129   48.096888\n",
       "2    4.060962             2      0.000000        6.411223   29.411223\n",
       "3   -1.017357             2      0.000000        5.494240  122.494240\n",
       "4   10.271582             1      1.609438        2.455184  167.064622"
      ]
     },
     "execution_count": 125,
     "metadata": {},
     "output_type": "execute_result"
    }
   ],
   "source": [
    "data[features+['worst']].head()"
   ]
  },
  {
   "cell_type": "code",
   "execution_count": 126,
   "id": "7d5c7133",
   "metadata": {},
   "outputs": [
    {
     "data": {
      "text/html": [
       "<div>\n",
       "<style scoped>\n",
       "    .dataframe tbody tr th:only-of-type {\n",
       "        vertical-align: middle;\n",
       "    }\n",
       "\n",
       "    .dataframe tbody tr th {\n",
       "        vertical-align: top;\n",
       "    }\n",
       "\n",
       "    .dataframe thead th {\n",
       "        text-align: right;\n",
       "    }\n",
       "</style>\n",
       "<table border=\"1\" class=\"dataframe\">\n",
       "  <thead>\n",
       "    <tr style=\"text-align: right;\">\n",
       "      <th></th>\n",
       "      <th>experience</th>\n",
       "      <th>company_size</th>\n",
       "      <th>last_new_job</th>\n",
       "      <th>training_hours</th>\n",
       "    </tr>\n",
       "  </thead>\n",
       "  <tbody>\n",
       "    <tr>\n",
       "      <th>0</th>\n",
       "      <td>0.092943</td>\n",
       "      <td>0.018097</td>\n",
       "      <td>0.006272</td>\n",
       "      <td>0.043625</td>\n",
       "    </tr>\n",
       "    <tr>\n",
       "      <th>1</th>\n",
       "      <td>0.173403</td>\n",
       "      <td>0.020791</td>\n",
       "      <td>0.037253</td>\n",
       "      <td>0.110301</td>\n",
       "    </tr>\n",
       "    <tr>\n",
       "      <th>2</th>\n",
       "      <td>0.138075</td>\n",
       "      <td>0.068001</td>\n",
       "      <td>0.000000</td>\n",
       "      <td>0.217986</td>\n",
       "    </tr>\n",
       "    <tr>\n",
       "      <th>3</th>\n",
       "      <td>-0.008305</td>\n",
       "      <td>0.016327</td>\n",
       "      <td>0.000000</td>\n",
       "      <td>0.044853</td>\n",
       "    </tr>\n",
       "    <tr>\n",
       "      <th>4</th>\n",
       "      <td>0.061483</td>\n",
       "      <td>0.005986</td>\n",
       "      <td>0.009634</td>\n",
       "      <td>0.014696</td>\n",
       "    </tr>\n",
       "  </tbody>\n",
       "</table>\n",
       "</div>"
      ],
      "text/plain": [
       "   experience  company_size  last_new_job  training_hours\n",
       "0    0.092943      0.018097      0.006272        0.043625\n",
       "1    0.173403      0.020791      0.037253        0.110301\n",
       "2    0.138075      0.068001      0.000000        0.217986\n",
       "3   -0.008305      0.016327      0.000000        0.044853\n",
       "4    0.061483      0.005986      0.009634        0.014696"
      ]
     },
     "execution_count": 126,
     "metadata": {},
     "output_type": "execute_result"
    }
   ],
   "source": [
    "# calculate the ratio of mutliple features vs the worst feature we created\n",
    "# in previous cells\n",
    "data[features] = data[features].div(data['worst'], axis=0)\n",
    "\n",
    "data[features].head()"
   ]
  },
  {
   "cell_type": "markdown",
   "id": "f8ac8c3c",
   "metadata": {},
   "source": [
    "# PolynomialFeatures"
   ]
  },
  {
   "cell_type": "code",
   "execution_count": 140,
   "id": "a380e03b",
   "metadata": {},
   "outputs": [
    {
     "data": {
      "text/html": [
       "<div>\n",
       "<style scoped>\n",
       "    .dataframe tbody tr th:only-of-type {\n",
       "        vertical-align: middle;\n",
       "    }\n",
       "\n",
       "    .dataframe tbody tr th {\n",
       "        vertical-align: top;\n",
       "    }\n",
       "\n",
       "    .dataframe thead th {\n",
       "        text-align: right;\n",
       "    }\n",
       "</style>\n",
       "<table border=\"1\" class=\"dataframe\">\n",
       "  <thead>\n",
       "    <tr style=\"text-align: right;\">\n",
       "      <th></th>\n",
       "      <th>city</th>\n",
       "      <th>city_development_index</th>\n",
       "      <th>experience</th>\n",
       "      <th>company_size</th>\n",
       "      <th>last_new_job</th>\n",
       "      <th>training_hours</th>\n",
       "      <th>target</th>\n",
       "      <th>gender Female</th>\n",
       "      <th>gender Male</th>\n",
       "      <th>gender Other</th>\n",
       "      <th>...</th>\n",
       "      <th>major_discipline Humanities</th>\n",
       "      <th>major_discipline No Major</th>\n",
       "      <th>major_discipline Other</th>\n",
       "      <th>major_discipline STEM</th>\n",
       "      <th>company_type Early Stage Startup</th>\n",
       "      <th>company_type Funded Startup</th>\n",
       "      <th>company_type NGO</th>\n",
       "      <th>company_type Other</th>\n",
       "      <th>company_type Public Sector</th>\n",
       "      <th>company_type Pvt Ltd</th>\n",
       "    </tr>\n",
       "  </thead>\n",
       "  <tbody>\n",
       "    <tr>\n",
       "      <th>0</th>\n",
       "      <td>103</td>\n",
       "      <td>-0.044130</td>\n",
       "      <td>10.271582</td>\n",
       "      <td>2</td>\n",
       "      <td>0.693147</td>\n",
       "      <td>4.821240</td>\n",
       "      <td>1.0</td>\n",
       "      <td>0</td>\n",
       "      <td>1</td>\n",
       "      <td>0</td>\n",
       "      <td>...</td>\n",
       "      <td>0</td>\n",
       "      <td>0</td>\n",
       "      <td>0</td>\n",
       "      <td>1</td>\n",
       "      <td>0</td>\n",
       "      <td>0</td>\n",
       "      <td>0</td>\n",
       "      <td>0</td>\n",
       "      <td>0</td>\n",
       "      <td>1</td>\n",
       "    </tr>\n",
       "    <tr>\n",
       "      <th>1</th>\n",
       "      <td>40</td>\n",
       "      <td>-0.062109</td>\n",
       "      <td>8.340147</td>\n",
       "      <td>1</td>\n",
       "      <td>1.791759</td>\n",
       "      <td>5.305129</td>\n",
       "      <td>0.0</td>\n",
       "      <td>0</td>\n",
       "      <td>1</td>\n",
       "      <td>0</td>\n",
       "      <td>...</td>\n",
       "      <td>0</td>\n",
       "      <td>0</td>\n",
       "      <td>0</td>\n",
       "      <td>1</td>\n",
       "      <td>0</td>\n",
       "      <td>0</td>\n",
       "      <td>0</td>\n",
       "      <td>0</td>\n",
       "      <td>0</td>\n",
       "      <td>1</td>\n",
       "    </tr>\n",
       "    <tr>\n",
       "      <th>2</th>\n",
       "      <td>21</td>\n",
       "      <td>-0.065823</td>\n",
       "      <td>4.060962</td>\n",
       "      <td>2</td>\n",
       "      <td>0.000000</td>\n",
       "      <td>6.411223</td>\n",
       "      <td>0.0</td>\n",
       "      <td>0</td>\n",
       "      <td>0</td>\n",
       "      <td>0</td>\n",
       "      <td>...</td>\n",
       "      <td>0</td>\n",
       "      <td>0</td>\n",
       "      <td>0</td>\n",
       "      <td>1</td>\n",
       "      <td>0</td>\n",
       "      <td>0</td>\n",
       "      <td>0</td>\n",
       "      <td>0</td>\n",
       "      <td>0</td>\n",
       "      <td>1</td>\n",
       "    </tr>\n",
       "    <tr>\n",
       "      <th>3</th>\n",
       "      <td>115</td>\n",
       "      <td>-0.061446</td>\n",
       "      <td>-1.017357</td>\n",
       "      <td>2</td>\n",
       "      <td>0.000000</td>\n",
       "      <td>5.494240</td>\n",
       "      <td>1.0</td>\n",
       "      <td>0</td>\n",
       "      <td>0</td>\n",
       "      <td>0</td>\n",
       "      <td>...</td>\n",
       "      <td>0</td>\n",
       "      <td>0</td>\n",
       "      <td>0</td>\n",
       "      <td>0</td>\n",
       "      <td>0</td>\n",
       "      <td>0</td>\n",
       "      <td>0</td>\n",
       "      <td>0</td>\n",
       "      <td>0</td>\n",
       "      <td>1</td>\n",
       "    </tr>\n",
       "    <tr>\n",
       "      <th>4</th>\n",
       "      <td>162</td>\n",
       "      <td>-0.062518</td>\n",
       "      <td>10.271582</td>\n",
       "      <td>1</td>\n",
       "      <td>1.609438</td>\n",
       "      <td>2.455184</td>\n",
       "      <td>0.0</td>\n",
       "      <td>0</td>\n",
       "      <td>1</td>\n",
       "      <td>0</td>\n",
       "      <td>...</td>\n",
       "      <td>0</td>\n",
       "      <td>0</td>\n",
       "      <td>0</td>\n",
       "      <td>1</td>\n",
       "      <td>0</td>\n",
       "      <td>1</td>\n",
       "      <td>0</td>\n",
       "      <td>0</td>\n",
       "      <td>0</td>\n",
       "      <td>0</td>\n",
       "    </tr>\n",
       "    <tr>\n",
       "      <th>...</th>\n",
       "      <td>...</td>\n",
       "      <td>...</td>\n",
       "      <td>...</td>\n",
       "      <td>...</td>\n",
       "      <td>...</td>\n",
       "      <td>...</td>\n",
       "      <td>...</td>\n",
       "      <td>...</td>\n",
       "      <td>...</td>\n",
       "      <td>...</td>\n",
       "      <td>...</td>\n",
       "      <td>...</td>\n",
       "      <td>...</td>\n",
       "      <td>...</td>\n",
       "      <td>...</td>\n",
       "      <td>...</td>\n",
       "      <td>...</td>\n",
       "      <td>...</td>\n",
       "      <td>...</td>\n",
       "      <td>...</td>\n",
       "      <td>...</td>\n",
       "    </tr>\n",
       "    <tr>\n",
       "      <th>19153</th>\n",
       "      <td>173</td>\n",
       "      <td>-0.052972</td>\n",
       "      <td>7.987119</td>\n",
       "      <td>2</td>\n",
       "      <td>0.693147</td>\n",
       "      <td>5.098402</td>\n",
       "      <td>1.0</td>\n",
       "      <td>0</td>\n",
       "      <td>1</td>\n",
       "      <td>0</td>\n",
       "      <td>...</td>\n",
       "      <td>1</td>\n",
       "      <td>0</td>\n",
       "      <td>0</td>\n",
       "      <td>0</td>\n",
       "      <td>0</td>\n",
       "      <td>0</td>\n",
       "      <td>0</td>\n",
       "      <td>0</td>\n",
       "      <td>0</td>\n",
       "      <td>1</td>\n",
       "    </tr>\n",
       "    <tr>\n",
       "      <th>19154</th>\n",
       "      <td>103</td>\n",
       "      <td>-0.044130</td>\n",
       "      <td>7.987119</td>\n",
       "      <td>2</td>\n",
       "      <td>1.609438</td>\n",
       "      <td>5.494240</td>\n",
       "      <td>1.0</td>\n",
       "      <td>0</td>\n",
       "      <td>1</td>\n",
       "      <td>0</td>\n",
       "      <td>...</td>\n",
       "      <td>0</td>\n",
       "      <td>0</td>\n",
       "      <td>0</td>\n",
       "      <td>1</td>\n",
       "      <td>0</td>\n",
       "      <td>0</td>\n",
       "      <td>0</td>\n",
       "      <td>0</td>\n",
       "      <td>0</td>\n",
       "      <td>1</td>\n",
       "    </tr>\n",
       "    <tr>\n",
       "      <th>19155</th>\n",
       "      <td>103</td>\n",
       "      <td>-0.044130</td>\n",
       "      <td>10.271582</td>\n",
       "      <td>1</td>\n",
       "      <td>1.609438</td>\n",
       "      <td>5.183437</td>\n",
       "      <td>0.0</td>\n",
       "      <td>0</td>\n",
       "      <td>1</td>\n",
       "      <td>0</td>\n",
       "      <td>...</td>\n",
       "      <td>0</td>\n",
       "      <td>0</td>\n",
       "      <td>0</td>\n",
       "      <td>1</td>\n",
       "      <td>0</td>\n",
       "      <td>0</td>\n",
       "      <td>0</td>\n",
       "      <td>0</td>\n",
       "      <td>0</td>\n",
       "      <td>1</td>\n",
       "    </tr>\n",
       "    <tr>\n",
       "      <th>19156</th>\n",
       "      <td>65</td>\n",
       "      <td>-0.060684</td>\n",
       "      <td>-1.017357</td>\n",
       "      <td>1</td>\n",
       "      <td>1.098612</td>\n",
       "      <td>6.732999</td>\n",
       "      <td>0.0</td>\n",
       "      <td>0</td>\n",
       "      <td>1</td>\n",
       "      <td>0</td>\n",
       "      <td>...</td>\n",
       "      <td>0</td>\n",
       "      <td>0</td>\n",
       "      <td>0</td>\n",
       "      <td>1</td>\n",
       "      <td>0</td>\n",
       "      <td>0</td>\n",
       "      <td>0</td>\n",
       "      <td>0</td>\n",
       "      <td>0</td>\n",
       "      <td>1</td>\n",
       "    </tr>\n",
       "    <tr>\n",
       "      <th>19157</th>\n",
       "      <td>67</td>\n",
       "      <td>-0.056089</td>\n",
       "      <td>2.042726</td>\n",
       "      <td>2</td>\n",
       "      <td>0.693147</td>\n",
       "      <td>7.309279</td>\n",
       "      <td>0.0</td>\n",
       "      <td>0</td>\n",
       "      <td>0</td>\n",
       "      <td>0</td>\n",
       "      <td>...</td>\n",
       "      <td>0</td>\n",
       "      <td>0</td>\n",
       "      <td>0</td>\n",
       "      <td>1</td>\n",
       "      <td>0</td>\n",
       "      <td>0</td>\n",
       "      <td>0</td>\n",
       "      <td>0</td>\n",
       "      <td>0</td>\n",
       "      <td>1</td>\n",
       "    </tr>\n",
       "  </tbody>\n",
       "</table>\n",
       "<p>19158 rows × 33 columns</p>\n",
       "</div>"
      ],
      "text/plain": [
       "       city  city_development_index  experience  company_size  last_new_job  \\\n",
       "0       103               -0.044130   10.271582             2      0.693147   \n",
       "1        40               -0.062109    8.340147             1      1.791759   \n",
       "2        21               -0.065823    4.060962             2      0.000000   \n",
       "3       115               -0.061446   -1.017357             2      0.000000   \n",
       "4       162               -0.062518   10.271582             1      1.609438   \n",
       "...     ...                     ...         ...           ...           ...   \n",
       "19153   173               -0.052972    7.987119             2      0.693147   \n",
       "19154   103               -0.044130    7.987119             2      1.609438   \n",
       "19155   103               -0.044130   10.271582             1      1.609438   \n",
       "19156    65               -0.060684   -1.017357             1      1.098612   \n",
       "19157    67               -0.056089    2.042726             2      0.693147   \n",
       "\n",
       "       training_hours  target  gender Female  gender Male  gender Other  ...  \\\n",
       "0            4.821240     1.0              0            1             0  ...   \n",
       "1            5.305129     0.0              0            1             0  ...   \n",
       "2            6.411223     0.0              0            0             0  ...   \n",
       "3            5.494240     1.0              0            0             0  ...   \n",
       "4            2.455184     0.0              0            1             0  ...   \n",
       "...               ...     ...            ...          ...           ...  ...   \n",
       "19153        5.098402     1.0              0            1             0  ...   \n",
       "19154        5.494240     1.0              0            1             0  ...   \n",
       "19155        5.183437     0.0              0            1             0  ...   \n",
       "19156        6.732999     0.0              0            1             0  ...   \n",
       "19157        7.309279     0.0              0            0             0  ...   \n",
       "\n",
       "       major_discipline Humanities  major_discipline No Major  \\\n",
       "0                                0                          0   \n",
       "1                                0                          0   \n",
       "2                                0                          0   \n",
       "3                                0                          0   \n",
       "4                                0                          0   \n",
       "...                            ...                        ...   \n",
       "19153                            1                          0   \n",
       "19154                            0                          0   \n",
       "19155                            0                          0   \n",
       "19156                            0                          0   \n",
       "19157                            0                          0   \n",
       "\n",
       "       major_discipline Other  major_discipline STEM  \\\n",
       "0                           0                      1   \n",
       "1                           0                      1   \n",
       "2                           0                      1   \n",
       "3                           0                      0   \n",
       "4                           0                      1   \n",
       "...                       ...                    ...   \n",
       "19153                       0                      0   \n",
       "19154                       0                      1   \n",
       "19155                       0                      1   \n",
       "19156                       0                      1   \n",
       "19157                       0                      1   \n",
       "\n",
       "       company_type Early Stage Startup  company_type Funded Startup  \\\n",
       "0                                     0                            0   \n",
       "1                                     0                            0   \n",
       "2                                     0                            0   \n",
       "3                                     0                            0   \n",
       "4                                     0                            1   \n",
       "...                                 ...                          ...   \n",
       "19153                                 0                            0   \n",
       "19154                                 0                            0   \n",
       "19155                                 0                            0   \n",
       "19156                                 0                            0   \n",
       "19157                                 0                            0   \n",
       "\n",
       "       company_type NGO  company_type Other  company_type Public Sector  \\\n",
       "0                     0                   0                           0   \n",
       "1                     0                   0                           0   \n",
       "2                     0                   0                           0   \n",
       "3                     0                   0                           0   \n",
       "4                     0                   0                           0   \n",
       "...                 ...                 ...                         ...   \n",
       "19153                 0                   0                           0   \n",
       "19154                 0                   0                           0   \n",
       "19155                 0                   0                           0   \n",
       "19156                 0                   0                           0   \n",
       "19157                 0                   0                           0   \n",
       "\n",
       "       company_type Pvt Ltd  \n",
       "0                         1  \n",
       "1                         1  \n",
       "2                         1  \n",
       "3                         1  \n",
       "4                         0  \n",
       "...                     ...  \n",
       "19153                     1  \n",
       "19154                     1  \n",
       "19155                     1  \n",
       "19156                     1  \n",
       "19157                     1  \n",
       "\n",
       "[19158 rows x 33 columns]"
      ]
     },
     "execution_count": 140,
     "metadata": {},
     "output_type": "execute_result"
    }
   ],
   "source": [
    "##read the file\n",
    "data=pd.read_csv(\"D:/INEURON_DATA/Dataset/data0/hr_preprocessed.csv\")\n",
    "data"
   ]
  },
  {
   "cell_type": "code",
   "execution_count": 141,
   "id": "e18a3cf9",
   "metadata": {},
   "outputs": [],
   "source": [
    "from sklearn.preprocessing import PolynomialFeatures"
   ]
  },
  {
   "cell_type": "code",
   "execution_count": 142,
   "id": "bf7aa93e",
   "metadata": {},
   "outputs": [
    {
     "data": {
      "application/javascript": [
       "\n",
       "        if (window._pyforest_update_imports_cell) { window._pyforest_update_imports_cell('from sklearn.model_selection import train_test_split'); }\n",
       "    "
      ],
      "text/plain": [
       "<IPython.core.display.Javascript object>"
      ]
     },
     "metadata": {},
     "output_type": "display_data"
    },
    {
     "data": {
      "text/plain": [
       "((13410, 32), (5748, 32))"
      ]
     },
     "execution_count": 142,
     "metadata": {},
     "output_type": "execute_result"
    }
   ],
   "source": [
    "# let's separate into training and testing set\n",
    "\n",
    "X_train, X_test, y_train, y_test = train_test_split(\n",
    "    data.drop('target', axis=1), data['target'], test_size=0.3, random_state=0)\n",
    "\n",
    "X_train.shape, X_test.shape"
   ]
  },
  {
   "cell_type": "code",
   "execution_count": 144,
   "id": "cf686ee5",
   "metadata": {},
   "outputs": [
    {
     "data": {
      "image/png": "[encoded data removed]",
      "text/plain": [
       "<Figure size 432x288 with 1 Axes>"
      ]
     },
     "metadata": {
      "needs_background": "light"
     },
     "output_type": "display_data"
    },
    {
     "data": {
      "image/png": "[encoded data removed]",
      "text/plain": [
       "<Figure size 432x288 with 1 Axes>"
      ]
     },
     "metadata": {
      "needs_background": "light"
     },
     "output_type": "display_data"
    },
    {
     "data": {
      "image/png": "[encoded data removed]",
      "text/plain": [
       "<Figure size 432x288 with 1 Axes>"
      ]
     },
     "metadata": {
      "needs_background": "light"
     },
     "output_type": "display_data"
    }
   ],
   "source": [
    "# plot relation of features of interest with the target\n",
    "\n",
    "for f in ['company_size','last_new_job','training_hours']:\n",
    "    plt.scatter(X_train[f], y_train)\n",
    "    plt.title(f)\n",
    "    plt.show()"
   ]
  },
  {
   "cell_type": "code",
   "execution_count": 145,
   "id": "af4e3df0",
   "metadata": {},
   "outputs": [],
   "source": [
    "# set up the polynomial expansion transformer\n",
    "\n",
    "poly = PolynomialFeatures(degree=3, interaction_only=False, include_bias=False)"
   ]
  },
  {
   "cell_type": "code",
   "execution_count": 147,
   "id": "fc8424fe",
   "metadata": {},
   "outputs": [
    {
     "data": {
      "text/html": [
       "<style>#sk-container-id-4 {color: black;background-color: white;}#sk-container-id-4 pre{padding: 0;}#sk-container-id-4 div.sk-toggleable {background-color: white;}#sk-container-id-4 label.sk-toggleable__label {cursor: pointer;display: block;width: 100%;margin-bottom: 0;padding: 0.3em;box-sizing: border-box;text-align: center;}#sk-container-id-4 label.sk-toggleable__label-arrow:before {content: \"▸\";float: left;margin-right: 0.25em;color: #696969;}#sk-container-id-4 label.sk-toggleable__label-arrow:hover:before {color: black;}#sk-container-id-4 div.sk-estimator:hover label.sk-toggleable__label-arrow:before {color: black;}#sk-container-id-4 div.sk-toggleable__content {max-height: 0;max-width: 0;overflow: hidden;text-align: left;background-color: #f0f8ff;}#sk-container-id-4 div.sk-toggleable__content pre {margin: 0.2em;color: black;border-radius: 0.25em;background-color: #f0f8ff;}#sk-container-id-4 input.sk-toggleable__control:checked~div.sk-toggleable__content {max-height: 200px;max-width: 100%;overflow: auto;}#sk-container-id-4 input.sk-toggleable__control:checked~label.sk-toggleable__label-arrow:before {content: \"▾\";}#sk-container-id-4 div.sk-estimator input.sk-toggleable__control:checked~label.sk-toggleable__label {background-color: #d4ebff;}#sk-container-id-4 div.sk-label input.sk-toggleable__control:checked~label.sk-toggleable__label {background-color: #d4ebff;}#sk-container-id-4 input.sk-hidden--visually {border: 0;clip: rect(1px 1px 1px 1px);clip: rect(1px, 1px, 1px, 1px);height: 1px;margin: -1px;overflow: hidden;padding: 0;position: absolute;width: 1px;}#sk-container-id-4 div.sk-estimator {font-family: monospace;background-color: #f0f8ff;border: 1px dotted black;border-radius: 0.25em;box-sizing: border-box;margin-bottom: 0.5em;}#sk-container-id-4 div.sk-estimator:hover {background-color: #d4ebff;}#sk-container-id-4 div.sk-parallel-item::after {content: \"\";width: 100%;border-bottom: 1px solid gray;flex-grow: 1;}#sk-container-id-4 div.sk-label:hover label.sk-toggleable__label {background-color: #d4ebff;}#sk-container-id-4 div.sk-serial::before {content: \"\";position: absolute;border-left: 1px solid gray;box-sizing: border-box;top: 0;bottom: 0;left: 50%;z-index: 0;}#sk-container-id-4 div.sk-serial {display: flex;flex-direction: column;align-items: center;background-color: white;padding-right: 0.2em;padding-left: 0.2em;position: relative;}#sk-container-id-4 div.sk-item {position: relative;z-index: 1;}#sk-container-id-4 div.sk-parallel {display: flex;align-items: stretch;justify-content: center;background-color: white;position: relative;}#sk-container-id-4 div.sk-item::before, #sk-container-id-4 div.sk-parallel-item::before {content: \"\";position: absolute;border-left: 1px solid gray;box-sizing: border-box;top: 0;bottom: 0;left: 50%;z-index: -1;}#sk-container-id-4 div.sk-parallel-item {display: flex;flex-direction: column;z-index: 1;position: relative;background-color: white;}#sk-container-id-4 div.sk-parallel-item:first-child::after {align-self: flex-end;width: 50%;}#sk-container-id-4 div.sk-parallel-item:last-child::after {align-self: flex-start;width: 50%;}#sk-container-id-4 div.sk-parallel-item:only-child::after {width: 0;}#sk-container-id-4 div.sk-dashed-wrapped {border: 1px dashed gray;margin: 0 0.4em 0.5em 0.4em;box-sizing: border-box;padding-bottom: 0.4em;background-color: white;}#sk-container-id-4 div.sk-label label {font-family: monospace;font-weight: bold;display: inline-block;line-height: 1.2em;}#sk-container-id-4 div.sk-label-container {text-align: center;}#sk-container-id-4 div.sk-container {/* jupyter's `normalize.less` sets `[hidden] { display: none; }` but bootstrap.min.css set `[hidden] { display: none !important; }` so we also need the `!important` here to be able to override the default hidden behavior on the sphinx rendered scikit-learn.org. See: https://github.com/scikit-learn/scikit-learn/issues/21755 */display: inline-block !important;position: relative;}#sk-container-id-4 div.sk-text-repr-fallback {display: none;}</style><div id=\"sk-container-id-4\" class=\"sk-top-container\"><div class=\"sk-text-repr-fallback\"><pre>PolynomialFeatures(degree=3, include_bias=False)</pre><b>In a Jupyter environment, please rerun this cell to show the HTML representation or trust the notebook. <br />On GitHub, the HTML representation is unable to render, please try loading this page with nbviewer.org.</b></div><div class=\"sk-container\" hidden><div class=\"sk-item\"><div class=\"sk-estimator sk-toggleable\"><input class=\"sk-toggleable__control sk-hidden--visually\" id=\"sk-estimator-id-4\" type=\"checkbox\" checked><label for=\"sk-estimator-id-4\" class=\"sk-toggleable__label sk-toggleable__label-arrow\">PolynomialFeatures</label><div class=\"sk-toggleable__content\"><pre>PolynomialFeatures(degree=3, include_bias=False)</pre></div></div></div></div></div>"
      ],
      "text/plain": [
       "PolynomialFeatures(degree=3, include_bias=False)"
      ]
     },
     "execution_count": 147,
     "metadata": {},
     "output_type": "execute_result"
    }
   ],
   "source": [
    "# train the polynomial expansion transformer\n",
    "\n",
    "poly.fit(X_train[['company_size','last_new_job','training_hours']])"
   ]
  },
  {
   "cell_type": "code",
   "execution_count": 150,
   "id": "64bb52e5",
   "metadata": {},
   "outputs": [],
   "source": [
    "# create the new features\n",
    "\n",
    "train_t = poly.transform(X_train[['company_size','last_new_job','training_hours']])\n",
    "test_t = poly.transform(X_test[['company_size','last_new_job','training_hours']])"
   ]
  },
  {
   "cell_type": "code",
   "execution_count": 151,
   "id": "b071a1ed",
   "metadata": {},
   "outputs": [
    {
     "name": "stderr",
     "output_type": "stream",
     "text": [
      "C:\\Users\\prate\\anaconda3\\lib\\site-packages\\sklearn\\utils\\deprecation.py:87: FutureWarning: Function get_feature_names is deprecated; get_feature_names is deprecated in 1.0 and will be removed in 1.2. Please use get_feature_names_out instead.\n",
      "  warnings.warn(msg, category=FutureWarning)\n"
     ]
    },
    {
     "data": {
      "text/plain": [
       "['company_size',\n",
       " 'last_new_job',\n",
       " 'training_hours',\n",
       " 'company_size^2',\n",
       " 'company_size last_new_job',\n",
       " 'company_size training_hours',\n",
       " 'last_new_job^2',\n",
       " 'last_new_job training_hours',\n",
       " 'training_hours^2',\n",
       " 'company_size^3',\n",
       " 'company_size^2 last_new_job',\n",
       " 'company_size^2 training_hours',\n",
       " 'company_size last_new_job^2',\n",
       " 'company_size last_new_job training_hours',\n",
       " 'company_size training_hours^2',\n",
       " 'last_new_job^3',\n",
       " 'last_new_job^2 training_hours',\n",
       " 'last_new_job training_hours^2',\n",
       " 'training_hours^3']"
      ]
     },
     "execution_count": 151,
     "metadata": {},
     "output_type": "execute_result"
    }
   ],
   "source": [
    "# visualise the name of the created features\n",
    "\n",
    "poly.get_feature_names(['company_size','last_new_job','training_hours'])"
   ]
  },
  {
   "cell_type": "code",
   "execution_count": 152,
   "id": "583eb412",
   "metadata": {},
   "outputs": [
    {
     "data": {
      "text/plain": [
       "19"
      ]
     },
     "execution_count": 152,
     "metadata": {},
     "output_type": "execute_result"
    }
   ],
   "source": [
    "len(poly.get_feature_names(['company_size','last_new_job','training_hours']))"
   ]
  },
  {
   "cell_type": "code",
   "execution_count": 153,
   "id": "c58f5d40",
   "metadata": {},
   "outputs": [
    {
     "data": {
      "text/html": [
       "<div>\n",
       "<style scoped>\n",
       "    .dataframe tbody tr th:only-of-type {\n",
       "        vertical-align: middle;\n",
       "    }\n",
       "\n",
       "    .dataframe tbody tr th {\n",
       "        vertical-align: top;\n",
       "    }\n",
       "\n",
       "    .dataframe thead th {\n",
       "        text-align: right;\n",
       "    }\n",
       "</style>\n",
       "<table border=\"1\" class=\"dataframe\">\n",
       "  <thead>\n",
       "    <tr style=\"text-align: right;\">\n",
       "      <th></th>\n",
       "      <th>company_size</th>\n",
       "      <th>last_new_job</th>\n",
       "      <th>training_hours</th>\n",
       "      <th>company_size^2</th>\n",
       "      <th>company_size last_new_job</th>\n",
       "      <th>company_size training_hours</th>\n",
       "      <th>last_new_job^2</th>\n",
       "      <th>last_new_job training_hours</th>\n",
       "      <th>training_hours^2</th>\n",
       "      <th>company_size^3</th>\n",
       "      <th>company_size^2 last_new_job</th>\n",
       "      <th>company_size^2 training_hours</th>\n",
       "      <th>company_size last_new_job^2</th>\n",
       "      <th>company_size last_new_job training_hours</th>\n",
       "      <th>company_size training_hours^2</th>\n",
       "      <th>last_new_job^3</th>\n",
       "      <th>last_new_job^2 training_hours</th>\n",
       "      <th>last_new_job training_hours^2</th>\n",
       "      <th>training_hours^3</th>\n",
       "    </tr>\n",
       "  </thead>\n",
       "  <tbody>\n",
       "    <tr>\n",
       "      <th>0</th>\n",
       "      <td>0.0</td>\n",
       "      <td>1.791759</td>\n",
       "      <td>5.668733</td>\n",
       "      <td>0.0</td>\n",
       "      <td>0.000000</td>\n",
       "      <td>0.000000</td>\n",
       "      <td>3.210402</td>\n",
       "      <td>10.157005</td>\n",
       "      <td>32.134529</td>\n",
       "      <td>0.0</td>\n",
       "      <td>0.000000</td>\n",
       "      <td>0.000000</td>\n",
       "      <td>0.000000</td>\n",
       "      <td>0.000000</td>\n",
       "      <td>0.000000</td>\n",
       "      <td>5.752268</td>\n",
       "      <td>18.198910</td>\n",
       "      <td>57.577346</td>\n",
       "      <td>182.162048</td>\n",
       "    </tr>\n",
       "    <tr>\n",
       "      <th>1</th>\n",
       "      <td>0.0</td>\n",
       "      <td>1.609438</td>\n",
       "      <td>7.343491</td>\n",
       "      <td>0.0</td>\n",
       "      <td>0.000000</td>\n",
       "      <td>0.000000</td>\n",
       "      <td>2.590290</td>\n",
       "      <td>11.818892</td>\n",
       "      <td>53.926854</td>\n",
       "      <td>0.0</td>\n",
       "      <td>0.000000</td>\n",
       "      <td>0.000000</td>\n",
       "      <td>0.000000</td>\n",
       "      <td>0.000000</td>\n",
       "      <td>0.000000</td>\n",
       "      <td>4.168912</td>\n",
       "      <td>19.021773</td>\n",
       "      <td>86.791923</td>\n",
       "      <td>396.011342</td>\n",
       "    </tr>\n",
       "    <tr>\n",
       "      <th>2</th>\n",
       "      <td>1.0</td>\n",
       "      <td>1.098612</td>\n",
       "      <td>5.344252</td>\n",
       "      <td>1.0</td>\n",
       "      <td>1.098612</td>\n",
       "      <td>5.344252</td>\n",
       "      <td>1.206949</td>\n",
       "      <td>5.871261</td>\n",
       "      <td>28.561028</td>\n",
       "      <td>1.0</td>\n",
       "      <td>1.098612</td>\n",
       "      <td>5.344252</td>\n",
       "      <td>1.206949</td>\n",
       "      <td>5.871261</td>\n",
       "      <td>28.561028</td>\n",
       "      <td>1.325969</td>\n",
       "      <td>6.450239</td>\n",
       "      <td>31.377496</td>\n",
       "      <td>152.637325</td>\n",
       "    </tr>\n",
       "    <tr>\n",
       "      <th>3</th>\n",
       "      <td>0.0</td>\n",
       "      <td>0.693147</td>\n",
       "      <td>3.568168</td>\n",
       "      <td>0.0</td>\n",
       "      <td>0.000000</td>\n",
       "      <td>0.000000</td>\n",
       "      <td>0.480453</td>\n",
       "      <td>2.473266</td>\n",
       "      <td>12.731826</td>\n",
       "      <td>0.0</td>\n",
       "      <td>0.000000</td>\n",
       "      <td>0.000000</td>\n",
       "      <td>0.000000</td>\n",
       "      <td>0.000000</td>\n",
       "      <td>0.000000</td>\n",
       "      <td>0.333025</td>\n",
       "      <td>1.714337</td>\n",
       "      <td>8.825029</td>\n",
       "      <td>45.429299</td>\n",
       "    </tr>\n",
       "    <tr>\n",
       "      <th>4</th>\n",
       "      <td>1.0</td>\n",
       "      <td>1.609438</td>\n",
       "      <td>4.444143</td>\n",
       "      <td>1.0</td>\n",
       "      <td>1.609438</td>\n",
       "      <td>4.444143</td>\n",
       "      <td>2.590290</td>\n",
       "      <td>7.152573</td>\n",
       "      <td>19.750411</td>\n",
       "      <td>1.0</td>\n",
       "      <td>1.609438</td>\n",
       "      <td>4.444143</td>\n",
       "      <td>2.590290</td>\n",
       "      <td>7.152573</td>\n",
       "      <td>19.750411</td>\n",
       "      <td>4.168912</td>\n",
       "      <td>11.511622</td>\n",
       "      <td>31.787060</td>\n",
       "      <td>87.773657</td>\n",
       "    </tr>\n",
       "  </tbody>\n",
       "</table>\n",
       "</div>"
      ],
      "text/plain": [
       "   company_size  last_new_job  training_hours  company_size^2  \\\n",
       "0           0.0      1.791759        5.668733             0.0   \n",
       "1           0.0      1.609438        7.343491             0.0   \n",
       "2           1.0      1.098612        5.344252             1.0   \n",
       "3           0.0      0.693147        3.568168             0.0   \n",
       "4           1.0      1.609438        4.444143             1.0   \n",
       "\n",
       "   company_size last_new_job  company_size training_hours  last_new_job^2  \\\n",
       "0                   0.000000                     0.000000        3.210402   \n",
       "1                   0.000000                     0.000000        2.590290   \n",
       "2                   1.098612                     5.344252        1.206949   \n",
       "3                   0.000000                     0.000000        0.480453   \n",
       "4                   1.609438                     4.444143        2.590290   \n",
       "\n",
       "   last_new_job training_hours  training_hours^2  company_size^3  \\\n",
       "0                    10.157005         32.134529             0.0   \n",
       "1                    11.818892         53.926854             0.0   \n",
       "2                     5.871261         28.561028             1.0   \n",
       "3                     2.473266         12.731826             0.0   \n",
       "4                     7.152573         19.750411             1.0   \n",
       "\n",
       "   company_size^2 last_new_job  company_size^2 training_hours  \\\n",
       "0                     0.000000                       0.000000   \n",
       "1                     0.000000                       0.000000   \n",
       "2                     1.098612                       5.344252   \n",
       "3                     0.000000                       0.000000   \n",
       "4                     1.609438                       4.444143   \n",
       "\n",
       "   company_size last_new_job^2  company_size last_new_job training_hours  \\\n",
       "0                     0.000000                                  0.000000   \n",
       "1                     0.000000                                  0.000000   \n",
       "2                     1.206949                                  5.871261   \n",
       "3                     0.000000                                  0.000000   \n",
       "4                     2.590290                                  7.152573   \n",
       "\n",
       "   company_size training_hours^2  last_new_job^3  \\\n",
       "0                       0.000000        5.752268   \n",
       "1                       0.000000        4.168912   \n",
       "2                      28.561028        1.325969   \n",
       "3                       0.000000        0.333025   \n",
       "4                      19.750411        4.168912   \n",
       "\n",
       "   last_new_job^2 training_hours  last_new_job training_hours^2  \\\n",
       "0                      18.198910                      57.577346   \n",
       "1                      19.021773                      86.791923   \n",
       "2                       6.450239                      31.377496   \n",
       "3                       1.714337                       8.825029   \n",
       "4                      11.511622                      31.787060   \n",
       "\n",
       "   training_hours^3  \n",
       "0        182.162048  \n",
       "1        396.011342  \n",
       "2        152.637325  \n",
       "3         45.429299  \n",
       "4         87.773657  "
      ]
     },
     "execution_count": 153,
     "metadata": {},
     "output_type": "execute_result"
    }
   ],
   "source": [
    "# capture the returned features in a dataframe\n",
    "test_t = pd.DataFrame(test_t)\n",
    "\n",
    "# add column names of created features\n",
    "test_t.columns = poly.get_feature_names(['company_size','last_new_job','training_hours'])\n",
    "\n",
    "\n",
    "test_t.head()"
   ]
  },
  {
   "cell_type": "code",
   "execution_count": 154,
   "id": "7a70b93d",
   "metadata": {},
   "outputs": [
    {
     "data": {
      "image/png": "[encoded data removed]",
      "text/plain": [
       "<Figure size 864x864 with 20 Axes>"
      ]
     },
     "metadata": {
      "needs_background": "light"
     },
     "output_type": "display_data"
    }
   ],
   "source": [
    "# plot the new features vs the target\n",
    "\n",
    "\n",
    "def plot_features(df):\n",
    "\n",
    "    # function plots 9 images\n",
    "    nb_rows = 5\n",
    "    nb_cols = 4\n",
    "    \n",
    "    fig, axs = plt.subplots(nb_rows, nb_cols, figsize=(12, 12))\n",
    "    plt.subplots_adjust(wspace=None, hspace=0.4)\n",
    "\n",
    "    n = 0\n",
    "    for i in range(0, nb_rows):\n",
    "        for j in range(0, nb_cols):\n",
    "            if n!=19:\n",
    "                axs[i, j].scatter(test_t[test_t.columns[n]], y_test)\n",
    "                axs[i, j].set_title(test_t.columns[n])\n",
    "                n += 1\n",
    "    plt.show()\n",
    "    \n",
    "plot_features(test_t)"
   ]
  },
  {
   "cell_type": "markdown",
   "id": "dd46ea82",
   "metadata": {},
   "source": [
    "# PCA"
   ]
  },
  {
   "cell_type": "code",
   "execution_count": 155,
   "id": "71d60506",
   "metadata": {},
   "outputs": [],
   "source": [
    "from sklearn.decomposition import PCA"
   ]
  },
  {
   "cell_type": "code",
   "execution_count": 156,
   "id": "0ae5f9ee",
   "metadata": {},
   "outputs": [],
   "source": [
    "# set up the PCA\n",
    "\n",
    "pca = PCA(n_components=None)"
   ]
  },
  {
   "cell_type": "code",
   "execution_count": 157,
   "id": "a3082a26",
   "metadata": {},
   "outputs": [
    {
     "data": {
      "text/html": [
       "<style>#sk-container-id-5 {color: black;background-color: white;}#sk-container-id-5 pre{padding: 0;}#sk-container-id-5 div.sk-toggleable {background-color: white;}#sk-container-id-5 label.sk-toggleable__label {cursor: pointer;display: block;width: 100%;margin-bottom: 0;padding: 0.3em;box-sizing: border-box;text-align: center;}#sk-container-id-5 label.sk-toggleable__label-arrow:before {content: \"▸\";float: left;margin-right: 0.25em;color: #696969;}#sk-container-id-5 label.sk-toggleable__label-arrow:hover:before {color: black;}#sk-container-id-5 div.sk-estimator:hover label.sk-toggleable__label-arrow:before {color: black;}#sk-container-id-5 div.sk-toggleable__content {max-height: 0;max-width: 0;overflow: hidden;text-align: left;background-color: #f0f8ff;}#sk-container-id-5 div.sk-toggleable__content pre {margin: 0.2em;color: black;border-radius: 0.25em;background-color: #f0f8ff;}#sk-container-id-5 input.sk-toggleable__control:checked~div.sk-toggleable__content {max-height: 200px;max-width: 100%;overflow: auto;}#sk-container-id-5 input.sk-toggleable__control:checked~label.sk-toggleable__label-arrow:before {content: \"▾\";}#sk-container-id-5 div.sk-estimator input.sk-toggleable__control:checked~label.sk-toggleable__label {background-color: #d4ebff;}#sk-container-id-5 div.sk-label input.sk-toggleable__control:checked~label.sk-toggleable__label {background-color: #d4ebff;}#sk-container-id-5 input.sk-hidden--visually {border: 0;clip: rect(1px 1px 1px 1px);clip: rect(1px, 1px, 1px, 1px);height: 1px;margin: -1px;overflow: hidden;padding: 0;position: absolute;width: 1px;}#sk-container-id-5 div.sk-estimator {font-family: monospace;background-color: #f0f8ff;border: 1px dotted black;border-radius: 0.25em;box-sizing: border-box;margin-bottom: 0.5em;}#sk-container-id-5 div.sk-estimator:hover {background-color: #d4ebff;}#sk-container-id-5 div.sk-parallel-item::after {content: \"\";width: 100%;border-bottom: 1px solid gray;flex-grow: 1;}#sk-container-id-5 div.sk-label:hover label.sk-toggleable__label {background-color: #d4ebff;}#sk-container-id-5 div.sk-serial::before {content: \"\";position: absolute;border-left: 1px solid gray;box-sizing: border-box;top: 0;bottom: 0;left: 50%;z-index: 0;}#sk-container-id-5 div.sk-serial {display: flex;flex-direction: column;align-items: center;background-color: white;padding-right: 0.2em;padding-left: 0.2em;position: relative;}#sk-container-id-5 div.sk-item {position: relative;z-index: 1;}#sk-container-id-5 div.sk-parallel {display: flex;align-items: stretch;justify-content: center;background-color: white;position: relative;}#sk-container-id-5 div.sk-item::before, #sk-container-id-5 div.sk-parallel-item::before {content: \"\";position: absolute;border-left: 1px solid gray;box-sizing: border-box;top: 0;bottom: 0;left: 50%;z-index: -1;}#sk-container-id-5 div.sk-parallel-item {display: flex;flex-direction: column;z-index: 1;position: relative;background-color: white;}#sk-container-id-5 div.sk-parallel-item:first-child::after {align-self: flex-end;width: 50%;}#sk-container-id-5 div.sk-parallel-item:last-child::after {align-self: flex-start;width: 50%;}#sk-container-id-5 div.sk-parallel-item:only-child::after {width: 0;}#sk-container-id-5 div.sk-dashed-wrapped {border: 1px dashed gray;margin: 0 0.4em 0.5em 0.4em;box-sizing: border-box;padding-bottom: 0.4em;background-color: white;}#sk-container-id-5 div.sk-label label {font-family: monospace;font-weight: bold;display: inline-block;line-height: 1.2em;}#sk-container-id-5 div.sk-label-container {text-align: center;}#sk-container-id-5 div.sk-container {/* jupyter's `normalize.less` sets `[hidden] { display: none; }` but bootstrap.min.css set `[hidden] { display: none !important; }` so we also need the `!important` here to be able to override the default hidden behavior on the sphinx rendered scikit-learn.org. See: https://github.com/scikit-learn/scikit-learn/issues/21755 */display: inline-block !important;position: relative;}#sk-container-id-5 div.sk-text-repr-fallback {display: none;}</style><div id=\"sk-container-id-5\" class=\"sk-top-container\"><div class=\"sk-text-repr-fallback\"><pre>PCA()</pre><b>In a Jupyter environment, please rerun this cell to show the HTML representation or trust the notebook. <br />On GitHub, the HTML representation is unable to render, please try loading this page with nbviewer.org.</b></div><div class=\"sk-container\" hidden><div class=\"sk-item\"><div class=\"sk-estimator sk-toggleable\"><input class=\"sk-toggleable__control sk-hidden--visually\" id=\"sk-estimator-id-5\" type=\"checkbox\" checked><label for=\"sk-estimator-id-5\" class=\"sk-toggleable__label sk-toggleable__label-arrow\">PCA</label><div class=\"sk-toggleable__content\"><pre>PCA()</pre></div></div></div></div></div>"
      ],
      "text/plain": [
       "PCA()"
      ]
     },
     "execution_count": 157,
     "metadata": {},
     "output_type": "execute_result"
    }
   ],
   "source": [
    "# train the PCA\n",
    "\n",
    "pca.fit(X_train)"
   ]
  },
  {
   "cell_type": "code",
   "execution_count": 158,
   "id": "ccf6f0da",
   "metadata": {},
   "outputs": [],
   "source": [
    "# create the principal components\n",
    "\n",
    "train_t = pca.transform(X_train)\n",
    "test_t = pca.transform(X_test)"
   ]
  },
  {
   "cell_type": "code",
   "execution_count": 159,
   "id": "c335ed95",
   "metadata": {},
   "outputs": [
    {
     "data": {
      "text/plain": [
       "Text(0, 0.5, 'Percentage of Variance Explained')"
      ]
     },
     "execution_count": 159,
     "metadata": {},
     "output_type": "execute_result"
    },
    {
     "data": {
      "image/png": "[encoded data removed]",
      "text/plain": [
       "<Figure size 432x288 with 1 Axes>"
      ]
     },
     "metadata": {
      "needs_background": "light"
     },
     "output_type": "display_data"
    }
   ],
   "source": [
    "# determine the number of informative components\n",
    "\n",
    "# the number of components is determined by the change\n",
    "# in the decay in the percentage of variance explained\n",
    "# by each component\n",
    "\n",
    "plt.plot(pca.explained_variance_ratio_, linewidth=2)\n",
    "plt.title('Percentage of Variance Explained')\n",
    "plt.xlabel('Number of Components')\n",
    "plt.ylabel('Percentage of Variance Explained')"
   ]
  }
 ],
 "metadata": {
  "kernelspec": {
   "display_name": "Python 3 (ipykernel)",
   "language": "python",
   "name": "python3"
  },
  "language_info": {
   "codemirror_mode": {
    "name": "ipython",
    "version": 3
   },
   "file_extension": ".py",
   "mimetype": "text/x-python",
   "name": "python",
   "nbconvert_exporter": "python",
   "pygments_lexer": "ipython3",
   "version": "3.9.7"
  }
 },
 "nbformat": 4,
 "nbformat_minor": 5
}
